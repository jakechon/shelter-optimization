{
 "cells": [
  {
   "cell_type": "code",
   "execution_count": 73,
   "id": "88e5a935",
   "metadata": {},
   "outputs": [
    {
     "name": "stdout",
     "output_type": "stream",
     "text": [
      "          Destination 1  Destination 2\n",
      "Source 1        3147.90        3067.50\n",
      "Source 2       10982.38       10883.24\n"
     ]
    }
   ],
   "source": [
    "#Distance and Shelter Matrix pretty printed\n",
    "import requests\n",
    "import pandas as pd\n",
    "\n",
    "body = {\n",
    "    \"locations\": [[9.70093, 48.477473], [9.207916, 49.153868], [37.573242, 55.801281], [115.663757, 38.106467]],\n",
    "    \"destinations\": [0, 1], #which locations are the shelters?\n",
    "    \"metrics\": [\"distance\"],\n",
    "    \"resolve_locations\": \"true\",\n",
    "    \"sources\": [2, 3], #which locations are the disaster locations?\n",
    "    \"units\": \"km\"\n",
    "}\n",
    "\n",
    "headers = {\n",
    "    'Accept': 'application/json, application/geo+json, application/gpx+xml, img/png; charset=utf-8',\n",
    "    'Authorization': '5b3ce3597851110001cf6248f991edf29ef046cc80d54406531dc1cd',\n",
    "    'Content-Type': 'application/json; charset=utf-8'\n",
    "}\n",
    "\n",
    "call = requests.post('https://api.openrouteservice.org/v2/matrix/foot-walking', json=body, headers=headers)\n",
    "\n",
    "if call.status_code == 200:\n",
    "    apiResponse = call.json()\n",
    "\n",
    "    # Check if the 'distances' key exists in the response\n",
    "    if 'distances' in apiResponse:\n",
    "        sources = [f'Source {i + 1}' for i in range(len(apiResponse['distances']))]\n",
    "        destinations = [f'Destination {i + 1}' for i in body['destinations']]\n",
    "\n",
    "        # Convert the 'distances' list of lists to a DataFrame\n",
    "        df = pd.DataFrame(apiResponse['distances'], index=sources, columns=destinations)\n",
    "\n",
    "        # Print the formatted DataFrame\n",
    "        print(df)\n",
    "    else:\n",
    "        print('No \"distances\" key found in the API response.')\n",
    "else:\n",
    "    print(f'Request failed with status code {call.status_code}: {call.text}')"
   ]
  },
  {
   "cell_type": "code",
   "execution_count": 4,
   "id": "31b3e314",
   "metadata": {},
   "outputs": [
    {
     "name": "stdout",
     "output_type": "stream",
     "text": [
      "            Shelter 1   Shelter 2   Shelter 3  Shelter 4\n",
      "Shelter 1        0.00    74035.13  1762640.50  7349369.0\n",
      "Shelter 2    74035.13        0.00  1613733.63  7277888.5\n",
      "Shelter 3  1762640.50  1613733.63        0.00  5750278.0\n",
      "Shelter 4  7349369.00  7277888.50  5750278.00        0.0\n"
     ]
    }
   ],
   "source": [
    "#change to distances\n",
    "#Shelter Matrix\n",
    "import requests\n",
    "import pandas as pd\n",
    "\n",
    "body = {\n",
    "    'locations': [[9.70093, 48.477473], [9.207916, 49.153868], [37.573242, 55.801281], [115.663757, 38.106467]]\n",
    "}\n",
    "\n",
    "headers = {\n",
    "    'Authorization': '5b3ce3597851110001cf6248f991edf29ef046cc80d54406531dc1cd'\n",
    "}\n",
    "\n",
    "call = requests.post(\"https://api.openrouteservice.org/v2/matrix/foot-walking\", json=body, headers=headers)\n",
    "\n",
    "apiResponse = call.json()\n",
    "\n",
    "# Check if the 'durations' key exists in the response\n",
    "if 'durations' in apiResponse:\n",
    "    locations = [f'Shelter {i+1}' for i in range(len(apiResponse['durations']))]\n",
    "\n",
    "    # Convert the 'durations' dictionary to a DataFrame with 'locations' as both index and columns\n",
    "    df = pd.DataFrame(apiResponse['durations'], index=locations, columns=locations)\n",
    "\n",
    "    # Print the DataFrame\n",
    "    print(df)\n",
    "else:\n",
    "    print('No \"durations\" key found in the API response.')"
   ]
  },
  {
   "cell_type": "code",
   "execution_count": 30,
   "id": "5b607f92",
   "metadata": {},
   "outputs": [
    {
     "name": "stdout",
     "output_type": "stream",
     "text": [
      "{'distances': [[0.0, 8.71, 17.86, 15.36, 19.08, 15.36, 16.39, 8.09, 2.73, 11.28, 13.88, 18.83, 13.93, 13.29, 16.05, 15.12, 14.11, 10.77, 13.78, 13.57, 13.84, 13.62, 16.1, 14.51, 16.04, 16.59, 16.8], [8.71, 0.0, 12.25, 9.75, 13.47, 6.95, 10.65, 0.97, 10.83, 5.54, 8.22, 11.3, 6.83, 7.63, 11.66, 12.78, 11.73, 5.16, 5.37, 11.31, 8.18, 6.51, 10.49, 8.85, 10.43, 10.98, 11.19], [17.86, 12.25, 0.0, 6.08, 1.21, 8.98, 4.52, 11.28, 19.99, 7.13, 4.43, 7.67, 13.16, 5.04, 5.11, 8.12, 7.55, 7.12, 9.42, 7.76, 4.4, 12.44, 3.64, 3.85, 4.08, 3.6, 3.87], [15.36, 9.75, 6.08, 0.0, 7.28, 9.86, 8.15, 8.78, 15.59, 5.39, 4.96, 11.27, 12.48, 4.34, 2.74, 3.52, 2.47, 4.62, 8.71, 2.42, 4.63, 11.76, 3.09, 4.69, 2.5, 3.59, 3.26], [19.08, 13.47, 1.21, 7.28, 0.0, 9.76, 5.31, 12.49, 21.2, 8.34, 5.65, 7.86, 13.61, 6.25, 6.3, 9.31, 8.74, 8.34, 10.63, 8.96, 5.62, 13.31, 4.84, 5.06, 5.27, 4.79, 5.07], [15.36, 6.95, 8.98, 9.86, 9.76, 0.0, 4.65, 7.48, 17.48, 5.16, 5.98, 4.73, 4.9, 5.69, 11.03, 12.9, 11.85, 7.16, 2.49, 11.8, 6.33, 4.2, 10.11, 6.14, 9.78, 10.1, 10.38], [16.39, 10.65, 4.52, 8.15, 5.31, 4.65, 0.0, 9.68, 18.52, 5.45, 3.36, 3.51, 9.27, 4.16, 8.81, 11.16, 10.1, 6.68, 6.02, 10.09, 3.73, 8.69, 7.34, 3.61, 7.78, 7.33, 7.61], [8.09, 0.97, 11.28, 8.78, 12.49, 7.48, 9.68, 0.0, 10.22, 4.56, 7.25, 11.84, 8.04, 6.66, 10.69, 11.81, 10.76, 4.18, 5.91, 10.34, 7.21, 7.72, 9.52, 7.88, 9.45, 10.01, 10.21], [2.73, 10.83, 19.99, 15.59, 21.2, 17.48, 18.52, 10.22, 0.0, 13.4, 16.0, 20.96, 16.06, 15.41, 18.0, 15.47, 15.47, 12.89, 15.91, 15.74, 15.97, 15.74, 18.23, 16.63, 18.16, 18.72, 18.92], [11.28, 5.54, 7.13, 5.39, 8.34, 5.16, 5.45, 4.56, 13.4, 0.0, 2.8, 7.91, 7.11, 2.23, 7.0, 8.42, 7.37, 2.0, 3.36, 7.32, 2.78, 6.4, 5.76, 3.43, 5.78, 6.25, 6.54], [13.88, 8.22, 4.43, 4.96, 5.65, 5.98, 3.36, 7.25, 16.0, 2.8, 0.0, 6.48, 9.87, 0.91, 6.25, 7.96, 6.91, 3.43, 5.38, 6.89, 0.39, 9.16, 4.88, 0.72, 5.0, 5.37, 5.65], [18.83, 11.3, 7.67, 11.27, 7.86, 4.73, 3.51, 11.84, 20.96, 7.91, 6.48, 0.0, 7.54, 7.28, 12.0, 14.28, 13.22, 9.69, 6.86, 13.21, 6.85, 7.29, 10.54, 6.73, 10.97, 10.49, 10.77], [13.93, 6.83, 13.16, 12.48, 13.61, 4.9, 9.27, 8.04, 16.06, 7.11, 9.87, 7.54, 0.0, 9.3, 14.12, 15.51, 14.46, 9.11, 4.33, 14.41, 9.86, 1.02, 12.85, 10.31, 12.88, 13.34, 13.63], [13.29, 7.63, 5.04, 4.34, 6.25, 5.69, 4.16, 6.66, 15.41, 2.23, 0.91, 7.28, 9.3, 0.0, 5.64, 7.35, 6.29, 2.63, 5.29, 6.27, 0.65, 8.59, 4.36, 1.33, 4.39, 4.85, 5.14], [16.05, 11.66, 5.11, 2.74, 6.3, 11.03, 8.81, 10.69, 18.0, 7.0, 6.25, 12.0, 14.12, 5.64, 0.0, 3.06, 2.95, 6.53, 10.35, 3.64, 5.93, 13.41, 2.3, 5.63, 2.09, 2.36, 1.93], [15.12, 12.78, 8.12, 3.52, 9.31, 12.9, 11.16, 11.81, 15.47, 8.42, 7.96, 14.28, 15.51, 7.35, 3.06, 0.0, 1.27, 7.65, 11.74, 2.52, 7.64, 14.8, 5.31, 7.7, 4.81, 5.37, 4.94], [14.11, 11.73, 7.55, 2.47, 8.74, 11.85, 10.1, 10.76, 15.47, 7.37, 6.91, 13.22, 14.46, 6.29, 2.95, 1.27, 0.0, 6.6, 10.69, 1.44, 6.58, 13.75, 4.74, 6.65, 4.08, 5.16, 4.56], [10.77, 5.16, 7.12, 4.62, 8.34, 7.16, 6.68, 4.18, 12.89, 2.0, 3.43, 9.69, 9.11, 2.63, 6.53, 7.65, 6.6, 0.0, 5.36, 6.18, 3.19, 8.4, 5.36, 3.85, 5.3, 5.85, 6.06], [13.78, 5.37, 9.42, 8.71, 10.63, 2.49, 6.02, 5.91, 15.91, 3.36, 5.38, 6.86, 4.33, 5.29, 10.35, 11.74, 10.69, 5.36, 0.0, 10.64, 5.45, 3.61, 9.07, 6.01, 9.1, 9.57, 9.86], [13.57, 11.31, 7.76, 2.42, 8.96, 11.8, 10.09, 10.34, 15.74, 7.32, 6.89, 13.21, 14.41, 6.27, 3.64, 2.52, 1.44, 6.18, 10.64, 0.0, 6.57, 13.7, 4.96, 6.63, 4.22, 5.37, 4.78], [13.84, 8.18, 4.4, 4.63, 5.62, 6.33, 3.73, 7.21, 15.97, 2.78, 0.39, 6.85, 9.86, 0.65, 5.93, 7.64, 6.58, 3.19, 5.45, 6.57, 0.0, 9.14, 4.65, 0.7, 4.68, 5.14, 5.44], [13.62, 6.51, 12.44, 11.76, 13.31, 4.2, 8.69, 7.72, 15.74, 6.4, 9.16, 7.29, 1.02, 8.59, 13.41, 14.8, 13.75, 8.4, 3.61, 13.7, 9.14, 0.0, 12.13, 9.59, 12.16, 12.62, 12.92], [16.1, 10.49, 3.64, 3.09, 4.84, 10.11, 7.34, 9.52, 18.23, 5.76, 4.88, 10.54, 12.85, 4.36, 2.3, 5.31, 4.74, 5.36, 9.07, 4.96, 4.65, 12.13, 0.0, 4.32, 1.27, 0.55, 1.41], [14.51, 8.85, 3.85, 4.69, 5.06, 6.14, 3.61, 7.88, 16.63, 3.43, 0.72, 6.73, 10.31, 1.33, 5.63, 7.7, 6.65, 3.85, 6.01, 6.63, 0.7, 9.59, 4.32, 0.0, 4.38, 4.81, 5.06], [16.04, 10.43, 4.08, 2.5, 5.27, 9.78, 7.78, 9.45, 18.16, 5.78, 5.0, 10.97, 12.88, 4.39, 2.09, 4.81, 4.08, 5.3, 9.1, 4.22, 4.68, 12.16, 1.27, 4.38, 0.0, 1.69, 0.76], [16.59, 10.98, 3.6, 3.59, 4.79, 10.1, 7.33, 10.01, 18.72, 6.25, 5.37, 10.49, 13.34, 4.85, 2.36, 5.37, 5.16, 5.85, 9.57, 5.37, 5.14, 12.62, 0.55, 4.81, 1.69, 0.0, 1.08], [16.8, 11.19, 3.87, 3.26, 5.07, 10.38, 7.61, 10.21, 18.92, 6.54, 5.65, 10.77, 13.63, 5.14, 1.93, 4.94, 4.56, 6.06, 9.86, 4.78, 5.44, 12.92, 1.41, 5.06, 0.76, 1.08, 0.0]], 'destinations': [{'location': [140.762409, 38.274215], 'snapped_distance': 36.17}, {'location': [140.833941, 38.288323], 'snapped_distance': 33.82}, {'location': [140.929022, 38.242213], 'snapped_distance': 27.74}, {'location': [140.874304, 38.230843], 'snapped_distance': 41.34}, {'location': [140.941892, 38.241123], 'snapped_distance': 30.49}, {'location': [140.900481, 38.299676], 'snapped_distance': 72.31}, {'location': [140.928187, 38.276492], 'name': '新田東裏線', 'snapped_distance': 31.77}, {'location': [140.834598, 38.282518], 'snapped_distance': 66.05}, {'location': [140.760456, 38.256488], 'snapped_distance': 41.73}, {'location': [140.87414, 38.271419], 'snapped_distance': 46.88}, {'location': [140.899241, 38.262702], 'snapped_distance': 67.19}, {'location': [140.942817, 38.300207], 'snapped_distance': 53.49}, {'location': [140.872622, 38.324252], 'name': '仙台商業１号線', 'snapped_distance': 54.55}, {'location': [140.890971, 38.261861], 'snapped_distance': 39.4}, {'location': [140.889143, 38.218665], 'snapped_distance': 28.81}, {'location': [140.862912, 38.20997], 'snapped_distance': 28.27}, {'location': [140.862845, 38.218366], 'snapped_distance': 37.99}, {'location': [140.862368, 38.26092], 'snapped_distance': 6.85}, {'location': [140.880392, 38.296299], 'snapped_distance': 55.44}, {'location': [140.857429, 38.224736], 'snapped_distance': 7.59}, {'location': [140.897022, 38.261065], 'snapped_distance': 43.97}, {'location': [140.876592, 38.319624], 'snapped_distance': 26.04}, {'location': [140.899014, 38.227654], 'snapped_distance': 46.95}, {'location': [140.902627, 38.257993], 'snapped_distance': 20.46}, {'location': [140.897271, 38.227732], 'snapped_distance': 13.24}, {'location': [140.904095, 38.225359], 'snapped_distance': 2.65}, {'location': [140.903803, 38.223423], 'snapped_distance': 23.06}], 'sources': [{'location': [140.762409, 38.274215], 'snapped_distance': 36.17}, {'location': [140.833941, 38.288323], 'snapped_distance': 33.82}, {'location': [140.929022, 38.242213], 'snapped_distance': 27.74}, {'location': [140.874304, 38.230843], 'snapped_distance': 41.34}, {'location': [140.941892, 38.241123], 'snapped_distance': 30.49}, {'location': [140.900481, 38.299676], 'snapped_distance': 72.31}, {'location': [140.928187, 38.276492], 'name': '新田東裏線', 'snapped_distance': 31.77}, {'location': [140.834598, 38.282518], 'snapped_distance': 66.05}, {'location': [140.760456, 38.256488], 'snapped_distance': 41.73}, {'location': [140.87414, 38.271419], 'snapped_distance': 46.88}, {'location': [140.899241, 38.262702], 'snapped_distance': 67.19}, {'location': [140.942817, 38.300207], 'snapped_distance': 53.49}, {'location': [140.872622, 38.324252], 'name': '仙台商業１号線', 'snapped_distance': 54.55}, {'location': [140.890971, 38.261861], 'snapped_distance': 39.4}, {'location': [140.889143, 38.218665], 'snapped_distance': 28.81}, {'location': [140.862912, 38.20997], 'snapped_distance': 28.27}, {'location': [140.862845, 38.218366], 'snapped_distance': 37.99}, {'location': [140.862368, 38.26092], 'snapped_distance': 6.85}, {'location': [140.880392, 38.296299], 'snapped_distance': 55.44}, {'location': [140.857429, 38.224736], 'snapped_distance': 7.59}, {'location': [140.897022, 38.261065], 'snapped_distance': 43.97}, {'location': [140.876592, 38.319624], 'snapped_distance': 26.04}, {'location': [140.899014, 38.227654], 'snapped_distance': 46.95}, {'location': [140.902627, 38.257993], 'snapped_distance': 20.46}, {'location': [140.897271, 38.227732], 'snapped_distance': 13.24}, {'location': [140.904095, 38.225359], 'snapped_distance': 2.65}, {'location': [140.903803, 38.223423], 'snapped_distance': 23.06}], 'metadata': {'attribution': 'openrouteservice.org | OpenStreetMap contributors', 'service': 'matrix', 'timestamp': 1700994825567, 'query': {'locations': [[140.76242, 38.27389], [140.83386, 38.28862], [140.92912, 38.24245], [140.87384, 38.23077], [140.94222, 38.24103], [140.9006, 38.30032], [140.92843, 38.27628], [140.83406, 38.2821], [140.76093, 38.25644], [140.87361, 38.27135], [140.90001, 38.26269], [140.94251, 38.29979], [140.87201, 38.32415], [140.89091, 38.26151], [140.8892, 38.21892], [140.86297, 38.20972], [140.86325, 38.21849], [140.86235, 38.26098], [140.88088, 38.29598], [140.8574, 38.2248], [140.89702, 38.26067], [140.87641, 38.31981], [140.89955, 38.22769], [140.90253, 38.25816], [140.89715, 38.22766], [140.90411, 38.22538], [140.90396, 38.22359]], 'profile': 'foot-walking', 'responseType': 'json', 'metrics': ['distance'], 'resolve_locations': True, 'units': 'km'}, 'engine': {'version': '7.1.0', 'build_date': '2023-07-09T01:31:50Z', 'graph_date': '2023-11-13T23:43:46Z'}}}\n",
      "           Shelter1  Shelter2  Shelter3  Shelter4  Shelter5  Shelter6  Shelter7  Shelter8  Shelter9  Shelter10  Shelter11  Shelter12  Shelter13  Shelter14  Shelter15  Shelter16  Shelter17  Shelter18  Shelter19  Shelter20  Shelter21  Shelter22  Shelter23  Shelter24  Shelter25  Shelter26  Shelter27\n",
      "Shelter1       0.00      8.71     17.86     15.36     19.08     15.36     16.39      8.09      2.73      11.28      13.88      18.83      13.93      13.29      16.05      15.12      14.11      10.77      13.78      13.57      13.84      13.62      16.10      14.51      16.04      16.59      16.80\n",
      "Shelter2       8.71      0.00     12.25      9.75     13.47      6.95     10.65      0.97     10.83       5.54       8.22      11.30       6.83       7.63      11.66      12.78      11.73       5.16       5.37      11.31       8.18       6.51      10.49       8.85      10.43      10.98      11.19\n",
      "Shelter3      17.86     12.25      0.00      6.08      1.21      8.98      4.52     11.28     19.99       7.13       4.43       7.67      13.16       5.04       5.11       8.12       7.55       7.12       9.42       7.76       4.40      12.44       3.64       3.85       4.08       3.60       3.87\n",
      "Shelter4      15.36      9.75      6.08      0.00      7.28      9.86      8.15      8.78     15.59       5.39       4.96      11.27      12.48       4.34       2.74       3.52       2.47       4.62       8.71       2.42       4.63      11.76       3.09       4.69       2.50       3.59       3.26\n",
      "Shelter5      19.08     13.47      1.21      7.28      0.00      9.76      5.31     12.49     21.20       8.34       5.65       7.86      13.61       6.25       6.30       9.31       8.74       8.34      10.63       8.96       5.62      13.31       4.84       5.06       5.27       4.79       5.07\n",
      "Shelter6      15.36      6.95      8.98      9.86      9.76      0.00      4.65      7.48     17.48       5.16       5.98       4.73       4.90       5.69      11.03      12.90      11.85       7.16       2.49      11.80       6.33       4.20      10.11       6.14       9.78      10.10      10.38\n",
      "Shelter7      16.39     10.65      4.52      8.15      5.31      4.65      0.00      9.68     18.52       5.45       3.36       3.51       9.27       4.16       8.81      11.16      10.10       6.68       6.02      10.09       3.73       8.69       7.34       3.61       7.78       7.33       7.61\n",
      "Shelter8       8.09      0.97     11.28      8.78     12.49      7.48      9.68      0.00     10.22       4.56       7.25      11.84       8.04       6.66      10.69      11.81      10.76       4.18       5.91      10.34       7.21       7.72       9.52       7.88       9.45      10.01      10.21\n",
      "Shelter9       2.73     10.83     19.99     15.59     21.20     17.48     18.52     10.22      0.00      13.40      16.00      20.96      16.06      15.41      18.00      15.47      15.47      12.89      15.91      15.74      15.97      15.74      18.23      16.63      18.16      18.72      18.92\n",
      "Shelter10     11.28      5.54      7.13      5.39      8.34      5.16      5.45      4.56     13.40       0.00       2.80       7.91       7.11       2.23       7.00       8.42       7.37       2.00       3.36       7.32       2.78       6.40       5.76       3.43       5.78       6.25       6.54\n",
      "Shelter11     13.88      8.22      4.43      4.96      5.65      5.98      3.36      7.25     16.00       2.80       0.00       6.48       9.87       0.91       6.25       7.96       6.91       3.43       5.38       6.89       0.39       9.16       4.88       0.72       5.00       5.37       5.65\n",
      "Shelter12     18.83     11.30      7.67     11.27      7.86      4.73      3.51     11.84     20.96       7.91       6.48       0.00       7.54       7.28      12.00      14.28      13.22       9.69       6.86      13.21       6.85       7.29      10.54       6.73      10.97      10.49      10.77\n",
      "Shelter13     13.93      6.83     13.16     12.48     13.61      4.90      9.27      8.04     16.06       7.11       9.87       7.54       0.00       9.30      14.12      15.51      14.46       9.11       4.33      14.41       9.86       1.02      12.85      10.31      12.88      13.34      13.63\n",
      "Shelter14     13.29      7.63      5.04      4.34      6.25      5.69      4.16      6.66     15.41       2.23       0.91       7.28       9.30       0.00       5.64       7.35       6.29       2.63       5.29       6.27       0.65       8.59       4.36       1.33       4.39       4.85       5.14\n",
      "Shelter15     16.05     11.66      5.11      2.74      6.30     11.03      8.81     10.69     18.00       7.00       6.25      12.00      14.12       5.64       0.00       3.06       2.95       6.53      10.35       3.64       5.93      13.41       2.30       5.63       2.09       2.36       1.93\n",
      "Shelter16     15.12     12.78      8.12      3.52      9.31     12.90     11.16     11.81     15.47       8.42       7.96      14.28      15.51       7.35       3.06       0.00       1.27       7.65      11.74       2.52       7.64      14.80       5.31       7.70       4.81       5.37       4.94\n",
      "Shelter17     14.11     11.73      7.55      2.47      8.74     11.85     10.10     10.76     15.47       7.37       6.91      13.22      14.46       6.29       2.95       1.27       0.00       6.60      10.69       1.44       6.58      13.75       4.74       6.65       4.08       5.16       4.56\n",
      "Shelter18     10.77      5.16      7.12      4.62      8.34      7.16      6.68      4.18     12.89       2.00       3.43       9.69       9.11       2.63       6.53       7.65       6.60       0.00       5.36       6.18       3.19       8.40       5.36       3.85       5.30       5.85       6.06\n",
      "Shelter19     13.78      5.37      9.42      8.71     10.63      2.49      6.02      5.91     15.91       3.36       5.38       6.86       4.33       5.29      10.35      11.74      10.69       5.36       0.00      10.64       5.45       3.61       9.07       6.01       9.10       9.57       9.86\n",
      "Shelter20     13.57     11.31      7.76      2.42      8.96     11.80     10.09     10.34     15.74       7.32       6.89      13.21      14.41       6.27       3.64       2.52       1.44       6.18      10.64       0.00       6.57      13.70       4.96       6.63       4.22       5.37       4.78\n",
      "Shelter21     13.84      8.18      4.40      4.63      5.62      6.33      3.73      7.21     15.97       2.78       0.39       6.85       9.86       0.65       5.93       7.64       6.58       3.19       5.45       6.57       0.00       9.14       4.65       0.70       4.68       5.14       5.44\n",
      "Shelter22     13.62      6.51     12.44     11.76     13.31      4.20      8.69      7.72     15.74       6.40       9.16       7.29       1.02       8.59      13.41      14.80      13.75       8.40       3.61      13.70       9.14       0.00      12.13       9.59      12.16      12.62      12.92\n",
      "Shelter23     16.10     10.49      3.64      3.09      4.84     10.11      7.34      9.52     18.23       5.76       4.88      10.54      12.85       4.36       2.30       5.31       4.74       5.36       9.07       4.96       4.65      12.13       0.00       4.32       1.27       0.55       1.41\n",
      "Shelter24     14.51      8.85      3.85      4.69      5.06      6.14      3.61      7.88     16.63       3.43       0.72       6.73      10.31       1.33       5.63       7.70       6.65       3.85       6.01       6.63       0.70       9.59       4.32       0.00       4.38       4.81       5.06\n",
      "Shelter25     16.04     10.43      4.08      2.50      5.27      9.78      7.78      9.45     18.16       5.78       5.00      10.97      12.88       4.39       2.09       4.81       4.08       5.30       9.10       4.22       4.68      12.16       1.27       4.38       0.00       1.69       0.76\n",
      "Shelter26     16.59     10.98      3.60      3.59      4.79     10.10      7.33     10.01     18.72       6.25       5.37      10.49      13.34       4.85       2.36       5.37       5.16       5.85       9.57       5.37       5.14      12.62       0.55       4.81       1.69       0.00       1.08\n",
      "Shelter27     16.80     11.19      3.87      3.26      5.07     10.38      7.61     10.21     18.92       6.54       5.65      10.77      13.63       5.14       1.93       4.94       4.56       6.06       9.86       4.78       5.44      12.92       1.41       5.06       0.76       1.08       0.00\n"
     ]
    }
   ],
   "source": [
    "#change to distances\n",
    "#Shelter Matrix\n",
    "\n",
    "pd.set_option(\"display.max_columns\", None) # show all cols\n",
    "pd.set_option('max_colwidth', None) # show full width of showing cols\n",
    "pd.set_option(\"expand_frame_repr\", False) # print cols side by side as it's supposed to be\n",
    "pd.options.display.max_seq_items = 200000\n",
    "pd.options.display.max_rows = 400000\n",
    "\n",
    "import requests\n",
    "import pandas as pd\n",
    "\n",
    "body = {\n",
    "    'locations': coordinates,\n",
    "    'metrics': [\"distance\"],\n",
    "    'resolve_locations': \"true\",\n",
    "    'units': \"km\" \n",
    "}\n",
    "\n",
    "headers = {\n",
    "    'Authorization': '5b3ce3597851110001cf6248f991edf29ef046cc80d54406531dc1cd'\n",
    "}\n",
    "\n",
    "call = requests.post(\"https://api.openrouteservice.org/v2/matrix/foot-walking\", json=body, headers=headers)\n",
    "\n",
    "apiResponse = call.json()\n",
    "\n",
    "print(apiResponse)\n",
    "# Check if the 'distances' key exists in the response\n",
    "if 'distances' in apiResponse:\n",
    "    locations = [f'Shelter{i+1}' for i in range(len(apiResponse['distances']))]\n",
    "\n",
    "    # Convert the 'distances' dictionary to a DataFrame with 'locations' as both index and columns\n",
    "    df = pd.DataFrame(apiResponse['distances'], index=locations, columns=locations)\n",
    "\n",
    "    # Print the DataFrame\n",
    "    print(df)\n",
    "else:\n",
    "    print('No \"distances\" key found in the API response.')"
   ]
  },
  {
   "cell_type": "code",
   "execution_count": 22,
   "id": "846de5bf",
   "metadata": {},
   "outputs": [
    {
     "name": "stdout",
     "output_type": "stream",
     "text": [
      "[[140.76242, 38.27389], [140.83386, 38.28862], [140.92912, 38.24245], [140.87384, 38.23077], [140.94222, 38.24103], [140.9006, 38.30032], [140.92843, 38.27628], [140.83406, 38.2821], [140.76093, 38.25644], [140.87361, 38.27135], [140.90001, 38.26269], [140.94251, 38.29979], [140.87201, 38.32415], [140.89091, 38.26151], [140.8892, 38.21892], [140.86297, 38.20972], [140.86325, 38.21849], [140.86235, 38.26098], [140.88088, 38.29598], [140.8574, 38.2248], [140.89702, 38.26067], [140.87641, 38.31981], [140.89955, 38.22769], [140.90253, 38.25816], [140.89715, 38.22766], [140.90411, 38.22538], [140.90396, 38.22359]]\n"
     ]
    }
   ],
   "source": [
    "#Flip Coordinates for ORS\n",
    "coordinates = [[38.27389,140.76242],[38.28862,140.83386],[38.24245,140.92912],[38.23077,140.87384],[38.24103,140.94222],[38.30032,140.9006],[38.27628,140.92843],[38.2821,140.83406],[38.25644,140.76093],[38.27135,140.87361],[38.26269,140.90001],[38.29979,140.94251],[38.32415,140.87201],[38.26151,140.89091],[38.21892,140.8892],[38.20972,140.86297],[38.21849,140.86325],[38.26098,140.86235],[38.29598,140.88088],[38.2248,140.8574],[38.26067,140.89702],[38.31981,140.87641],[38.22769,140.89955],[38.25816,140.90253],[38.22766,140.89715],[38.22538,140.90411],[38.22359,140.90396]]\n",
    "len(coordinates)\n",
    "for i in range(len(coordinates)):\n",
    "    x,y = coordinates[i]\n",
    "    coordinates[i] = [y,x]\n",
    "print(coordinates)"
   ]
  },
  {
   "cell_type": "code",
   "execution_count": 65,
   "id": "a9b3717f",
   "metadata": {},
   "outputs": [
    {
     "name": "stdout",
     "output_type": "stream",
     "text": [
      "+----------+-----------------+-----------------+\n",
      "|          |   Destination 1 |   Destination 2 |\n",
      "+==========+=================+=================+\n",
      "| Source 1 |          3147.9 |          3067.5 |\n",
      "+----------+-----------------+-----------------+\n",
      "| Source 2 |         10982.4 |         10883.2 |\n",
      "+----------+-----------------+-----------------+\n"
     ]
    }
   ],
   "source": [
    "#table\n",
    "\n",
    "import requests\n",
    "from tabulate import tabulate\n",
    "\n",
    "body = {\n",
    "    \"locations\": [[9.70093, 48.477473], [9.207916, 49.153868], [37.573242, 55.801281], [115.663757, 38.106467]],\n",
    "    \"destinations\": [0, 1],\n",
    "    \"metrics\": [\"distance\"],\n",
    "    \"resolve_locations\": \"true\",\n",
    "    \"sources\": [2, 3],\n",
    "    \"units\": \"km\"\n",
    "}\n",
    "\n",
    "headers = {\n",
    "    'Accept': 'application/json, application/geo+json, application/gpx+xml, img/png; charset=utf-8',\n",
    "    'Authorization': '5b3ce3597851110001cf6248f991edf29ef046cc80d54406531dc1cd',\n",
    "    'Content-Type': 'application/json; charset=utf-8'\n",
    "}\n",
    "\n",
    "call = requests.post('https://api.openrouteservice.org/v2/matrix/foot-walking', json=body, headers=headers)\n",
    "\n",
    "# Check if the request was successful (status code 200)\n",
    "if call.status_code == 200:\n",
    "    response_data = call.json()\n",
    "\n",
    "    # Extract the distances matrix\n",
    "    distances_matrix = response_data['distances']\n",
    "\n",
    "    # Create headers for the table\n",
    "    headers = [f'Destination {i+1}' for i in body['destinations']]\n",
    "\n",
    "    # Create a list of lists for the table\n",
    "    table_data = [[f'Source {i+1}'] + distances_matrix[i] for i in range(len(distances_matrix))]\n",
    "\n",
    "    # Pretty print the table\n",
    "    print(tabulate(table_data, headers, tablefmt='grid'))\n",
    "else:\n",
    "    print(f\"Request failed with status code {call.status_code}: {call.text}\")"
   ]
  }
 ],
 "metadata": {
  "kernelspec": {
   "display_name": "Python 3 (ipykernel)",
   "language": "python",
   "name": "python3"
  },
  "language_info": {
   "codemirror_mode": {
    "name": "ipython",
    "version": 3
   },
   "file_extension": ".py",
   "mimetype": "text/x-python",
   "name": "python",
   "nbconvert_exporter": "python",
   "pygments_lexer": "ipython3",
   "version": "3.9.18"
  },
  "varInspector": {
   "cols": {
    "lenName": 16,
    "lenType": 16,
    "lenVar": 40
   },
   "kernels_config": {
    "python": {
     "delete_cmd_postfix": "",
     "delete_cmd_prefix": "del ",
     "library": "var_list.py",
     "varRefreshCmd": "print(var_dic_list())"
    },
    "r": {
     "delete_cmd_postfix": ") ",
     "delete_cmd_prefix": "rm(",
     "library": "var_list.r",
     "varRefreshCmd": "cat(var_dic_list()) "
    }
   },
   "types_to_exclude": [
    "module",
    "function",
    "builtin_function_or_method",
    "instance",
    "_Feature"
   ],
   "window_display": false
  }
 },
 "nbformat": 4,
 "nbformat_minor": 5
}

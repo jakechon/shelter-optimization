{
  "nbformat": 4,
  "nbformat_minor": 0,
  "metadata": {
    "colab": {
      "provenance": []
    },
    "kernelspec": {
      "display_name": "Julia",
      "language": "julia",
      "name": "julia"
    },
    "language_info": {
      "file_extension": ".jl",
      "mimetype": "application/julia",
      "name": "julia"
    }
  },
  "cells": [
    {
      "cell_type": "markdown",
      "metadata": {
        "id": "tQ1r1bbb0yBv"
      },
      "source": [
        "# <img src=\"https://github.com/JuliaLang/julia-logo-graphics/raw/master/images/julia-logo-color.png\" height=\"100\" /> _Colab Notebook Template_\n",
        "\n",
        "## Instructions\n",
        "1. Work on a copy of this notebook: _File_ > _Save a copy in Drive_ (you will need a Google account). Alternatively, you can download the notebook using _File_ > _Download .ipynb_, then upload it to [Colab](https://colab.research.google.com/).\n",
        "2. If you need a GPU: _Runtime_ > _Change runtime type_ > _Harware accelerator_ = _GPU_.\n",
        "3. Execute the following cell (click on it and press Ctrl+Enter) to install Julia, IJulia and other packages (if needed, update `JULIA_VERSION` and the other parameters). This takes a couple of minutes.\n",
        "4. Reload this page (press Ctrl+R, or ⌘+R, or the F5 key) and continue to the next section.\n",
        "\n",
        "_Notes_:\n",
        "* If your Colab Runtime gets reset (e.g., due to inactivity), repeat steps 2, 3 and 4.\n",
        "* After installation, if you want to change the Julia version or activate/deactivate the GPU, you will need to reset the Runtime: _Runtime_ > _Factory reset runtime_ and repeat steps 3 and 4."
      ]
    },
    {
      "cell_type": "code",
      "metadata": {
        "id": "GIeFXS0F0zww",
        "colab": {
          "base_uri": "https://localhost:8080/"
        },
        "outputId": "ce081234-bf4e-4c75-f120-d27e73def884"
      },
      "source": [
        "%%shell\n",
        "set -e\n",
        "\n",
        "#---------------------------------------------------#\n",
        "JULIA_VERSION=\"1.8.2\" # any version ≥ 0.7.0\n",
        "JULIA_PACKAGES=\"IJulia BenchmarkTools\"\n",
        "JULIA_PACKAGES_IF_GPU=\"CUDA\" # or CuArrays for older Julia versions\n",
        "JULIA_NUM_THREADS=2\n",
        "#---------------------------------------------------#\n",
        "\n",
        "if [ -z `which julia` ]; then\n",
        "  # Install Julia\n",
        "  JULIA_VER=`cut -d '.' -f -2 <<< \"$JULIA_VERSION\"`\n",
        "  echo \"Installing Julia $JULIA_VERSION on the current Colab Runtime...\"\n",
        "  BASE_URL=\"https://julialang-s3.julialang.org/bin/linux/x64\"\n",
        "  URL=\"$BASE_URL/$JULIA_VER/julia-$JULIA_VERSION-linux-x86_64.tar.gz\"\n",
        "  wget -nv $URL -O /tmp/julia.tar.gz # -nv means \"not verbose\"\n",
        "  tar -x -f /tmp/julia.tar.gz -C /usr/local --strip-components 1\n",
        "  rm /tmp/julia.tar.gz\n",
        "\n",
        "  # Install Packages\n",
        "  nvidia-smi -L &> /dev/null && export GPU=1 || export GPU=0\n",
        "  if [ $GPU -eq 1 ]; then\n",
        "    JULIA_PACKAGES=\"$JULIA_PACKAGES $JULIA_PACKAGES_IF_GPU\"\n",
        "  fi\n",
        "  for PKG in `echo $JULIA_PACKAGES`; do\n",
        "    echo \"Installing Julia package $PKG...\"\n",
        "    julia -e 'using Pkg; pkg\"add '$PKG'; precompile;\"' &> /dev/null\n",
        "  done\n",
        "\n",
        "  # Install kernel and rename it to \"julia\"\n",
        "  echo \"Installing IJulia kernel...\"\n",
        "  julia -e 'using IJulia; IJulia.installkernel(\"julia\", env=Dict(\n",
        "      \"JULIA_NUM_THREADS\"=>\"'\"$JULIA_NUM_THREADS\"'\"))'\n",
        "  KERNEL_DIR=`julia -e \"using IJulia; print(IJulia.kerneldir())\"`\n",
        "  KERNEL_NAME=`ls -d \"$KERNEL_DIR\"/julia*`\n",
        "  mv -f $KERNEL_NAME \"$KERNEL_DIR\"/julia\n",
        "\n",
        "  echo ''\n",
        "  echo \"Successfully installed `julia -v`!\"\n",
        "  echo \"Please reload this page (press Ctrl+R, ⌘+R, or the F5 key) then\"\n",
        "  echo \"jump to the 'Checking the Installation' section.\"\n",
        "fi"
      ],
      "execution_count": null,
      "outputs": [
        {
          "output_type": "stream",
          "name": "stdout",
          "text": [
            "Installing Julia 1.8.2 on the current Colab Runtime...\n",
            "2024-04-07 06:46:23 URL:https://storage.googleapis.com/julialang2/bin/linux/x64/1.8/julia-1.8.2-linux-x86_64.tar.gz [135859273/135859273] -> \"/tmp/julia.tar.gz\" [1]\n",
            "Installing Julia package IJulia...\n"
          ]
        }
      ]
    },
    {
      "cell_type": "markdown",
      "metadata": {
        "id": "-OS3Ac017T1i"
      },
      "source": [
        "# Checking the Installation\n",
        "The `versioninfo()` function should print your Julia version and some other info about the system:"
      ]
    },
    {
      "cell_type": "code",
      "metadata": {
        "id": "EEzvvzCl1i0F",
        "colab": {
          "base_uri": "https://localhost:8080/"
        },
        "outputId": "b0c8d3e1-1429-4699-db71-c4dae94bbedb"
      },
      "source": [
        "versioninfo()"
      ],
      "execution_count": 1,
      "outputs": [
        {
          "output_type": "stream",
          "name": "stdout",
          "text": [
            "Julia Version 1.8.2\n",
            "Commit 36034abf260 (2022-09-29 15:21 UTC)\n",
            "Platform Info:\n",
            "  OS: Linux (x86_64-linux-gnu)\n",
            "  CPU: 2 × Intel(R) Xeon(R) CPU @ 2.20GHz\n",
            "  WORD_SIZE: 64\n",
            "  LIBM: libopenlibm\n",
            "  LLVM: libLLVM-13.0.1 (ORCJIT, broadwell)\n",
            "  Threads: 2 on 2 virtual cores\n",
            "Environment:\n",
            "  LD_LIBRARY_PATH = /usr/local/nvidia/lib:/usr/local/nvidia/lib64\n",
            "  JULIA_NUM_THREADS = 2\n"
          ]
        }
      ]
    },
    {
      "cell_type": "markdown",
      "metadata": {
        "id": "2dYb7QTOavAk"
      },
      "source": [
        "# Initial Solver\n",
        "Run Installation First\n"
      ]
    },
    {
      "cell_type": "code",
      "source": [
        "import Pkg; Pkg.add(\"CSV\")\n",
        "import Pkg; Pkg.add(\"Tables\")\n",
        "import Pkg; Pkg.add(\"JuMP\")\n",
        "import Pkg; Pkg.add(\"HiGHS\")\n",
        "\n",
        "import CSV\n",
        "import Tables\n",
        "import JuMP\n",
        "import HiGHS\n",
        "import JuMP.Containers\n",
        "using CSV\n",
        "using Tables\n",
        "using JuMP\n",
        "using HiGHS\n",
        "using JuMP.Containers"
      ],
      "metadata": {
        "id": "rs0yhKsZa7yT"
      },
      "execution_count": null,
      "outputs": []
    },
    {
      "cell_type": "code",
      "source": [
        "input_evacuee_matrix = CSV.File(\"input_evacuee_matrix.csv\") |> Tables.matrix\n",
        "input_shelter_matrix = CSV.File(\"input_shelter_matrix.csv\") |> Tables.matrix\n",
        "\n",
        "evacuee_names = input_evacuee_matrix[1:990,1]\n",
        "shelter_names = input_shelter_matrix[:,1]"
      ],
      "metadata": {
        "id": "VWL_Gyvua_38"
      },
      "execution_count": null,
      "outputs": []
    },
    {
      "cell_type": "code",
      "source": [
        "full_cost_matrix = CSV.File(\"final_cost_matrix.csv\") |> Tables.matrix\n",
        "\n",
        "edited_cost_matrix = full_cost_matrix[:,2:end]\n",
        "\n",
        "full_cost_array = Containers.DenseAxisArray(edited_cost_matrix, 1:990, 1:187)\n",
        "\n",
        "shelter_numbers = input_shelter_matrix[1:end,2]\n",
        "\n",
        "evacuee_numbers = input_evacuee_matrix[1:end,2]\n",
        "\n",
        "function solve_transportation_problem(data::Containers.DenseAxisArray,shelter_numbers,evacuee_numbers)\n",
        "    # Get the set of supplies and demands\n",
        "    O, D = axes(data)\n",
        "    # Drop the EVACUEES and VACANCIES nodes from our sets\n",
        "    #O, D = setdiff(O, [\"VACANCIES\"]), setdiff(D, [\"EVACUEES\"])\n",
        "    model = Model(HiGHS.Optimizer)\n",
        "    set_silent(model)\n",
        "    @variable(model, x[o in O, d in D] >= 0)\n",
        "    # Remove arcs with \".\" cost by fixing them to 0.0.\n",
        "    for o in O, d in D\n",
        "        if data[o, d] == \".\"\n",
        "            fix(x[o, d], 0.0; force = true)\n",
        "        end\n",
        "    end\n",
        "    @objective(\n",
        "        model,\n",
        "        Min,\n",
        "        sum(data[o, d] * x[o, d] for o in O, d in D if data[o, d] != \".\"),\n",
        "    )\n",
        "    @constraint(model, [o in O], sum(x[o, :]) == evacuee_numbers[o])\n",
        "    @constraint(model, [d in D], sum(x[:, d]) <= shelter_numbers[d])\n",
        "    optimize!(model)\n",
        "\n",
        "\n",
        "    # Construct the solution matrix\n",
        "    solution_matrix = zeros(length(O), length(D))  # Initialize with zeros\n",
        "\n",
        "    for (i, o) in enumerate(O)\n",
        "        for (j, d) in enumerate(D)\n",
        "            solution_matrix[i, j] = value(x[o, d])\n",
        "        end\n",
        "    end\n",
        "\n",
        "    # Pretty print the solution in the format of the input\n",
        "    print(\"    \", join(lpad.(D, 7, ' ')))\n",
        "    for o in O\n",
        "        print(\"\\n\", o)\n",
        "        for d in D\n",
        "            if isapprox(value(x[o, d]), 0.0; atol = 1e-6)\n",
        "                print(\"      .\")\n",
        "            else\n",
        "                print(\" \", lpad(value(x[o, d]), 6, ' '))\n",
        "            end\n",
        "        end\n",
        "    end\n",
        "    return solution_matrix\n",
        "end\n",
        "\n",
        "print(\"\\nSolution:\\n\")\n",
        "solution_matrix = solve_transportation_problem(full_cost_array, shelter_numbers, evacuee_numbers)\n",
        "println(solution_matrix)\n",
        "\n",
        "CSV.write(\"sendai_solution_matrix.csv\", Tables.table(solution_matrix))\n"
      ],
      "metadata": {
        "id": "7zBZ93UIbE8j"
      },
      "execution_count": null,
      "outputs": []
    },
    {
      "cell_type": "code",
      "source": [
        "#NOT DONE Total Cost Calculation\n",
        "solution_cost = full_cost_array.data[1:end-1,1:end-1]\n",
        "matching_indicies = findall(x-> x == \".\", solution_cost)\n",
        "solution_cost[matching_indicies] .= 0\n",
        "#solution_matrix .* solution_cost\n",
        "total_cost_matrix = solution_cost.*solution_matrix\n",
        "running_total = sum(total_cost_matrix)\n",
        "initial_running_total = running_total\n",
        "print(\"Average distance per evacuee: \")\n",
        "println(initial_running_total/sum(evacuee_numbers))"
      ],
      "metadata": {
        "id": "eyH1uConqMS3",
        "colab": {
          "base_uri": "https://localhost:8080/"
        },
        "outputId": "68d90960-c731-4a5b-a287-e669af6c1f13"
      },
      "execution_count": null,
      "outputs": [
        {
          "output_type": "stream",
          "name": "stdout",
          "text": [
            "Average distance per evacuee: 0.9297263176521238\n"
          ]
        }
      ]
    },
    {
      "cell_type": "markdown",
      "source": [
        "# Testing"
      ],
      "metadata": {
        "id": "oun-QwRai2n3"
      }
    },
    {
      "cell_type": "code",
      "source": [
        "function is_evacuee_numbers_matching(solution_matrix,evacuee_numbers)\n",
        "  column_wise_solution_sum = sum(solution_matrix, dims=2)\n",
        "  int_column_wise_solution_sum = Int.(column_wise_solution_sum)\n",
        "  evacuees_comparison = int_column_wise_solution_sum .== evacuee_numbers\n",
        "  return prod(evacuees_comparison)\n",
        "end\n",
        "\n",
        "is_evacuee_numbers_matching(solution_matrix,evacuee_numbers)"
      ],
      "metadata": {
        "id": "msgrtv2ni4l7",
        "colab": {
          "base_uri": "https://localhost:8080/"
        },
        "outputId": "d3aeecfd-bd96-456c-d65d-59a2fa207d94"
      },
      "execution_count": 13,
      "outputs": [
        {
          "output_type": "execute_result",
          "data": {
            "text/plain": [
              "true"
            ]
          },
          "metadata": {},
          "execution_count": 13
        }
      ]
    },
    {
      "cell_type": "code",
      "source": [
        "function is_shelter_not_overflowing(solution_matrix,shelter_numbers)\n",
        "  row_wise_solution_sum = sum(solution_matrix, dims=1)\n",
        "  int_row_wise_solution_sum = Int.(row_wise_solution_sum)\n",
        "  shelter_comparison = int_row_wise_solution_sum[1,:] .<= shelter_numbers\n",
        "  return prod(shelter_comparison)\n",
        "end\n",
        "\n",
        "is_shelter_not_overflowing(solution_matrix,shelter_numbers)"
      ],
      "metadata": {
        "id": "jApcO9EJmxbo",
        "colab": {
          "base_uri": "https://localhost:8080/"
        },
        "outputId": "22c56905-e345-4677-c08d-3bef4e773bc6"
      },
      "execution_count": 12,
      "outputs": [
        {
          "output_type": "execute_result",
          "data": {
            "text/plain": [
              "true"
            ]
          },
          "metadata": {},
          "execution_count": 12
        }
      ]
    },
    {
      "cell_type": "code",
      "source": [
        "#Evacuee = shelter_max +1 overload check\n",
        "println(sum(shelter_numbers))\n",
        "println(sum(evacuee_numbers))\n",
        "\n",
        "shelter_evacuee_difference = sum(shelter_numbers) - sum(evacuee_numbers)\n",
        "overload_evacuee_numbers = deepcopy(evacuee_numbers)\n",
        "overload_evacuee_numbers[1] += shelter_evacuee_difference\n",
        "\n",
        "println(sum(overload_evacuee_numbers))\n",
        "\n",
        "overload_solution_matrix = solve_transportation_problem(full_cost_array, shelter_numbers, overload_evacuee_numbers)\n",
        "println(overload_solution_matrix)\n"
      ],
      "metadata": {
        "id": "hG0951IbqXjn"
      },
      "execution_count": null,
      "outputs": []
    },
    {
      "cell_type": "code",
      "source": [
        "#DERIVATIVE CALCULATION\n",
        "function calculate_numerical_derivative(data::Containers.DenseAxisArray, shelter_numbers, evacuee_numbers, epsilon::Float64 = 1)\n",
        "    O, D = axes(data)\n",
        "    #O, D = setdiff(O, [\"VACANCIES\"]), setdiff(D, [\"EVACUEES\"])\n",
        "    num_rows, num_cols = length(O), length(D)\n",
        "    derivative_matrix = zeros(Float64, num_rows, num_cols)\n",
        "\n",
        "    for (i, o) in enumerate(O), (j, d) in enumerate(D)\n",
        "        print(\"Calculating numerical derivative: \")\n",
        "        println([i,j])\n",
        "        original_cost = data[o, d]\n",
        "\n",
        "        if original_cost isa Number\n",
        "            # Increase the cost slightly and re-solve\n",
        "            data[o, d] = original_cost + epsilon\n",
        "            increased_cost_model = Model(HiGHS.Optimizer)\n",
        "            set_silent(increased_cost_model)\n",
        "            @variable(increased_cost_model, x[ii in O, jj in D] >= 0)\n",
        "\n",
        "            for ii in O, jj in D\n",
        "                if data[ii, jj] == \".\"\n",
        "                    fix(x[ii, jj], 0.0; force = true)\n",
        "                end\n",
        "            end\n",
        "\n",
        "            @objective(\n",
        "                increased_cost_model,\n",
        "                Min,\n",
        "                sum(data[ii, jj] * x[ii, jj] for ii in O, jj in D if data[ii, jj] isa Number),\n",
        "            )\n",
        "\n",
        "            @constraint(increased_cost_model, [o in O], sum(x[o, :]) == evacuee_numbers[o])\n",
        "            @constraint(increased_cost_model, [d in D], sum(x[:, d]) <= shelter_numbers[d])\n",
        "\n",
        "\n",
        "            optimize!(increased_cost_model)\n",
        "            increased_cost_objective = objective_value(increased_cost_model)\n",
        "\n",
        "            # Decrease the cost slightly and re-solve\n",
        "            data[o, d] = original_cost - epsilon\n",
        "            decreased_cost_model = Model(HiGHS.Optimizer)\n",
        "            set_silent(decreased_cost_model)\n",
        "            @variable(decreased_cost_model, x[ii in O, jj in D] >= 0)\n",
        "\n",
        "            for ii in O, jj in D\n",
        "                if data[ii, jj] == \".\"\n",
        "                    fix(x[ii, jj], 0.0; force = true)\n",
        "                end\n",
        "            end\n",
        "\n",
        "            @objective(\n",
        "                decreased_cost_model,\n",
        "                Min,\n",
        "                sum(data[ii, jj] * x[ii, jj] for ii in O, jj in D if data[ii, jj] isa Number),\n",
        "            )\n",
        "\n",
        "            @constraint(decreased_cost_model, [o in O], sum(x[o, :]) == evacuee_numbers[o])\n",
        "            @constraint(decreased_cost_model, [d in D], sum(x[:, d]) <= shelter_numbers[d])\n",
        "\n",
        "            optimize!(decreased_cost_model)\n",
        "            decreased_cost_objective = objective_value(decreased_cost_model)\n",
        "\n",
        "            # Calculate the numerical derivative\n",
        "            derivative = (increased_cost_objective - decreased_cost_objective) / (2 * epsilon)\n",
        "            derivative_matrix[i, j] = derivative\n",
        "\n",
        "            # Reset the original cost\n",
        "            data[o, d] = original_cost\n",
        "        end\n",
        "    end\n",
        "\n",
        "    return derivative_matrix\n",
        "end\n",
        "\n",
        "# Calculate and print the numerical derivative matrix\n",
        "epsilon = 1.0\n",
        "derivative_matrix = calculate_numerical_derivative(full_cost_array, shelter_numbers, evacuee_numbers, epsilon)\n",
        "println(\"\\nNumerical Derivative Matrix for Pathway:\")\n",
        "for row in eachrow(derivative_matrix)\n",
        "    println(row)\n",
        "end\n",
        "\n",
        "# Derivative Calculation (Shelter Capacity)\n",
        "\n",
        "function calculate_numerical_capacity_derivative(data::Containers.DenseAxisArray,full_cost_array, shelter_numbers, evacuee_numbers, epsilon::Float64 = 1000)\n",
        "    O, D = axes(data)\n",
        "    #O, D = setdiff(O, [\"VACANCIES\"]), setdiff(D, [\"EVACUEES\"])\n",
        "    num_rows, num_cols = length(O), length(D)\n",
        "    derivative_matrix = zeros(Float64, num_rows, num_cols)\n",
        "\n",
        "    for (i, o) in enumerate(O), (j, d) in enumerate(D)\n",
        "        print(\"Calculating numerical capacity derivative: \")\n",
        "        println([i,j])\n",
        "        original_capacity = shelter_numbers[d]\n",
        "        if original_capacity isa Number\n",
        "            # Increase the capacity slightly and re-solve\n",
        "            shelter_numbers[d] = original_capacity + epsilon\n",
        "            increased_capacity_model = Model(HiGHS.Optimizer)\n",
        "            set_silent(increased_capacity_model)\n",
        "            @variable(increased_capacity_model, x[ii in O, jj in D] >= 0)\n",
        "\n",
        "            for ii in O, jj in D\n",
        "                if data[ii, jj] == \".\"\n",
        "                    fix(x[ii, jj], 0.0; force = true)\n",
        "                end\n",
        "            end\n",
        "\n",
        "            @objective(\n",
        "                increased_capacity_model,\n",
        "                Min,\n",
        "                sum(data[ii, jj] * x[ii, jj] for ii in O, jj in D if data[ii, jj] isa Number),\n",
        "            )\n",
        "\n",
        "            @constraint(increased_capacity_model, [o in O], sum(x[o, :]) == evacuee_numbers[o])\n",
        "            @constraint(increased_capacity_model, [d in D], sum(x[:, d]) <= shelter_numbers[d])\n",
        "\n",
        "            optimize!(increased_capacity_model)\n",
        "            increased_capacity_objective = objective_value(increased_capacity_model)\n",
        "\n",
        "            # Decrease the capacity slightly and re-solve\n",
        "            shelter_numbers[d] = original_capacity - epsilon\n",
        "            decreased_capacity_model = Model(HiGHS.Optimizer)\n",
        "            set_silent(decreased_capacity_model)\n",
        "            @variable(decreased_capacity_model, x[ii in O, jj in D] >= 0)\n",
        "\n",
        "            for ii in O, jj in D\n",
        "                if data[ii, jj] == \".\"\n",
        "                    fix(x[ii, jj], 0.0; force = true)\n",
        "                end\n",
        "            end\n",
        "\n",
        "            @objective(\n",
        "                decreased_capacity_model,\n",
        "                Min,\n",
        "                sum(data[ii, jj] * x[ii, jj] for ii in O, jj in D if data[ii, jj] isa Number),\n",
        "            )\n",
        "\n",
        "            @constraint(decreased_capacity_model, [o in O], sum(x[o, :]) == evacuee_numbers[o])\n",
        "            @constraint(decreased_capacity_model, [d in D], sum(x[:, d]) <= shelter_numbers[d])\n",
        "\n",
        "            optimize!(decreased_capacity_model)\n",
        "            decreased_capacity_objective = objective_value(decreased_capacity_model)\n",
        "\n",
        "            # Calculate the numerical derivative\n",
        "            derivative = (increased_capacity_objective - decreased_capacity_objective) / (2 * epsilon)\n",
        "            derivative_matrix[i, j] = derivative\n",
        "\n",
        "            # Reset the original capacity\n",
        "            shelter_numbers[d] = original_capacity\n",
        "        end\n",
        "    end\n",
        "\n",
        "    return derivative_matrix\n",
        "end\n",
        "\n",
        "# Calculate and print the numerical derivative matrix for shelter capacity changes\n",
        "epsilon = 1000.0\n",
        "capacity_derivative_matrix = calculate_numerical_capacity_derivative(full_cost_array, shelter_numbers, evacuee_numbers, epsilon)\n",
        "println(\"\\nNumerical Derivative Matrix for Shelter Capacity Changes:\")\n",
        "for row in eachrow(capacity_derivative_matrix)\n",
        "    println(row)\n",
        "end"
      ],
      "metadata": {
        "id": "YS_m1NGblHsA"
      },
      "execution_count": null,
      "outputs": []
    },
    {
      "cell_type": "code",
      "source": [
        "full_cost_matrix = CSV.File(\"final_cost_matrix.csv\") |> Tables.matrix\n",
        "\n",
        "edited_cost_matrix = full_cost_matrix[:,2:end]\n",
        "\n",
        "full_cost_array = Containers.DenseAxisArray(edited_cost_matrix, 1:990, 1:187)\n",
        "\n",
        "num_rows, num_cols = axes(full_cost_array)\n",
        "testing_counter = 0\n",
        "for i in num_rows\n",
        "    for j in num_cols\n",
        "        if full_cost_array[i,j]>=0.50\n",
        "            testing_counter+=1\n",
        "        end\n",
        "    end\n",
        "end\n",
        "print(\"total calculations: \")\n",
        "println((size(num_rows)[1]*(size(num_cols)[1])))\n",
        "print(\"reduced calculations: \")\n",
        "println(testing_counter)\n",
        "print(\"new total calculations: \")\n",
        "println(((size(num_rows)[1]*(size(num_cols)[1]))-testing_counter))"
      ],
      "metadata": {
        "colab": {
          "base_uri": "https://localhost:8080/"
        },
        "id": "5mjQjl12t1t_",
        "outputId": "53cb619a-83d4-473d-c818-5d78c93431c4"
      },
      "execution_count": 120,
      "outputs": [
        {
          "output_type": "stream",
          "name": "stdout",
          "text": [
            "total calculations: 185130\n",
            "reduced calculations: 184808\n",
            "new total calculations: 322\n"
          ]
        }
      ]
    },
    {
      "cell_type": "code",
      "source": [
        "full_cost_matrix = CSV.File(\"final_cost_matrix.csv\") |> Tables.matrix\n",
        "\n",
        "edited_cost_matrix = full_cost_matrix[:,2:end]\n",
        "\n",
        "maximum_distance_full_cost_array = Containers.DenseAxisArray(edited_cost_matrix, 1:991, 1:188)\n",
        "num_rows, num_cols = axes(maximum_distance_full_cost_array)\n",
        "num_rows = num_rows[1:end-1]\n",
        "num_cols = num_cols[1:end-1]\n",
        "for i in num_rows\n",
        "    for j in num_cols\n",
        "      try\n",
        "        if maximum_distance_full_cost_array[i,j]>=0.50\n",
        "           maximum_distance_full_cost_array[i,j] = \".\"\n",
        "        end\n",
        "      catch e\n",
        "        println(i)\n",
        "        println(j)\n",
        "        println(e)\n",
        "      end\n",
        "    end\n",
        "end\n",
        "CSV.write(\"maximum_distance_full_cost_array.csv\", Tables.table(maximum_distance_full_cost_array))"
      ],
      "metadata": {
        "colab": {
          "base_uri": "https://localhost:8080/"
        },
        "id": "__BaOr7kl8lo",
        "outputId": "bb32fff6-66b8-4230-c555-2c1288f1ddab"
      },
      "execution_count": 103,
      "outputs": [
        {
          "output_type": "execute_result",
          "data": {
            "text/plain": [
              "\"maximum_distance_full_cost_array.csv\""
            ]
          },
          "metadata": {},
          "execution_count": 103
        }
      ]
    },
    {
      "cell_type": "code",
      "source": [
        "#DONE CHECK IF EACH DISASTER LOCATION HAS A SHELTER\n",
        "maximum_distance_full_cost_array_analysis = CSV.File(\"maximum_distance_full_cost_array.csv\") |> Tables.matrix\n",
        "num_rows, num_cols = axes(maximum_distance_full_cost_array)\n",
        "num_rows = num_rows[1:end-1]\n",
        "num_cols = num_cols[1:end-1]\n",
        "for i in num_rows\n",
        "  for j in num_cols\n",
        "    if maximum_distance_full_cost_array_analysis[i,j] == \".\"\n",
        "      maximum_distance_full_cost_array_analysis[i,j] = 0\n",
        "      else\n",
        "      maximum_distance_full_cost_array_analysis[i,j] = 1\n",
        "    end\n",
        "  end\n",
        "end\n",
        "sum_maximum_distance_full_cost_array_analysis = sum(maximum_distance_full_cost_array_analysis[1:end-1,1:end-1], dims = 2)\n",
        "print(\"Total disaster locations with possible route: \")\n",
        "print(sum(clamp.(sum_maximum_distance_full_cost_array_analysis, 0, 1)))\n",
        "print(\"/\")\n",
        "print(size(num_rows)[1])"
      ],
      "metadata": {
        "colab": {
          "base_uri": "https://localhost:8080/"
        },
        "id": "5hL8zhNDsZJi",
        "outputId": "96763ef5-09b4-4624-aedf-bb79d3b9a24b"
      },
      "execution_count": 127,
      "outputs": [
        {
          "output_type": "stream",
          "name": "stdout",
          "text": [
            "Total disaster locations with possible route: 709/990"
          ]
        }
      ]
    },
    {
      "cell_type": "code",
      "source": [
        "full_cost_array = Containers.DenseAxisArray(edited_cost_matrix, 1:990, 1:187)\n",
        "println(size(full_cost_array))\n",
        "#println(num_rows)\n",
        "#println(num_cols)\n",
        "#println(size(edited_cost_matrix))"
      ],
      "metadata": {
        "colab": {
          "base_uri": "https://localhost:8080/"
        },
        "id": "JZA5WFmdnIvH",
        "outputId": "02a25ac3-347d-4079-dc1f-fe5ff09a2a98"
      },
      "execution_count": 61,
      "outputs": [
        {
          "output_type": "stream",
          "name": "stdout",
          "text": [
            "(991, 188)\n"
          ]
        }
      ]
    },
    {
      "cell_type": "markdown",
      "source": [],
      "metadata": {
        "id": "7xr6MgxgzbGk"
      }
    }
  ]
}
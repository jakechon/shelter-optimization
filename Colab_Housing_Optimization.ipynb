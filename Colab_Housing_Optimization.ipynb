{
  "cells": [
    {
      "cell_type": "markdown",
      "metadata": {
        "id": "tQ1r1bbb0yBv"
      },
      "source": [
        "# <img src=\"https://github.com/JuliaLang/julia-logo-graphics/raw/master/images/julia-logo-color.png\" height=\"100\" /> _Colab Notebook Template_\n",
        "\n",
        "## Instructions\n",
        "1. Work on a copy of this notebook: _File_ > _Save a copy in Drive_ (you will need a Google account). Alternatively, you can download the notebook using _File_ > _Download .ipynb_, then upload it to [Colab](https://colab.research.google.com/).\n",
        "2. If you need a GPU: _Runtime_ > _Change runtime type_ > _Harware accelerator_ = _GPU_.\n",
        "3. Execute the following cell (click on it and press Ctrl+Enter) to install Julia, IJulia and other packages (if needed, update `JULIA_VERSION` and the other parameters). This takes a couple of minutes.\n",
        "4. Reload this page (press Ctrl+R, or ⌘+R, or the F5 key) and continue to the next section.\n",
        "\n",
        "_Notes_:\n",
        "* If your Colab Runtime gets reset (e.g., due to inactivity), repeat steps 2, 3 and 4.\n",
        "* After installation, if you want to change the Julia version or activate/deactivate the GPU, you will need to reset the Runtime: _Runtime_ > _Factory reset runtime_ and repeat steps 3 and 4."
      ]
    },
    {
      "cell_type": "code",
      "execution_count": null,
      "metadata": {
        "colab": {
          "base_uri": "https://localhost:8080/"
        },
        "id": "GIeFXS0F0zww",
        "outputId": "9b2bf7f9-a91f-43d9-f2ba-138a74d4adbd"
      },
      "outputs": [
        {
          "output_type": "stream",
          "name": "stdout",
          "text": [
            "Installing Julia 1.8.2 on the current Colab Runtime...\n",
            "2024-04-28 07:44:57 URL:https://storage.googleapis.com/julialang2/bin/linux/x64/1.8/julia-1.8.2-linux-x86_64.tar.gz [135859273/135859273] -> \"/tmp/julia.tar.gz\" [1]\n",
            "Installing Julia package IJulia...\n",
            "Installing Julia package BenchmarkTools...\n",
            "Installing IJulia kernel...\n",
            "\u001b[36m\u001b[1m[ \u001b[22m\u001b[39m\u001b[36m\u001b[1mInfo: \u001b[22m\u001b[39mInstalling julia kernelspec in /root/.local/share/jupyter/kernels/julia-1.8\n",
            "\n",
            "Successfully installed julia version 1.8.2!\n",
            "Please reload this page (press Ctrl+R, ⌘+R, or the F5 key) then\n",
            "jump to the 'Checking the Installation' section.\n"
          ]
        },
        {
          "output_type": "execute_result",
          "data": {
            "text/plain": []
          },
          "metadata": {},
          "execution_count": 1
        }
      ],
      "source": [
        "%%shell\n",
        "set -e\n",
        "\n",
        "#---------------------------------------------------#\n",
        "JULIA_VERSION=\"1.8.2\" # any version ≥ 0.7.0\n",
        "JULIA_PACKAGES=\"IJulia BenchmarkTools\"\n",
        "JULIA_PACKAGES_IF_GPU=\"CUDA\" # or CuArrays for older Julia versions\n",
        "JULIA_NUM_THREADS=2\n",
        "#---------------------------------------------------#\n",
        "\n",
        "if [ -z `which julia` ]; then\n",
        "  # Install Julia\n",
        "  JULIA_VER=`cut -d '.' -f -2 <<< \"$JULIA_VERSION\"`\n",
        "  echo \"Installing Julia $JULIA_VERSION on the current Colab Runtime...\"\n",
        "  BASE_URL=\"https://julialang-s3.julialang.org/bin/linux/x64\"\n",
        "  URL=\"$BASE_URL/$JULIA_VER/julia-$JULIA_VERSION-linux-x86_64.tar.gz\"\n",
        "  wget -nv $URL -O /tmp/julia.tar.gz # -nv means \"not verbose\"\n",
        "  tar -x -f /tmp/julia.tar.gz -C /usr/local --strip-components 1\n",
        "  rm /tmp/julia.tar.gz\n",
        "\n",
        "  # Install Packages\n",
        "  nvidia-smi -L &> /dev/null && export GPU=1 || export GPU=0\n",
        "  if [ $GPU -eq 1 ]; then\n",
        "    JULIA_PACKAGES=\"$JULIA_PACKAGES $JULIA_PACKAGES_IF_GPU\"\n",
        "  fi\n",
        "  for PKG in `echo $JULIA_PACKAGES`; do\n",
        "    echo \"Installing Julia package $PKG...\"\n",
        "    julia -e 'using Pkg; pkg\"add '$PKG'; precompile;\"' &> /dev/null\n",
        "  done\n",
        "\n",
        "  # Install kernel and rename it to \"julia\"\n",
        "  echo \"Installing IJulia kernel...\"\n",
        "  julia -e 'using IJulia; IJulia.installkernel(\"julia\", env=Dict(\n",
        "      \"JULIA_NUM_THREADS\"=>\"'\"$JULIA_NUM_THREADS\"'\"))'\n",
        "  KERNEL_DIR=`julia -e \"using IJulia; print(IJulia.kerneldir())\"`\n",
        "  KERNEL_NAME=`ls -d \"$KERNEL_DIR\"/julia*`\n",
        "  mv -f $KERNEL_NAME \"$KERNEL_DIR\"/julia\n",
        "\n",
        "  echo ''\n",
        "  echo \"Successfully installed `julia -v`!\"\n",
        "  echo \"Please reload this page (press Ctrl+R, ⌘+R, or the F5 key) then\"\n",
        "  echo \"jump to the 'Checking the Installation' section.\"\n",
        "fi"
      ]
    },
    {
      "cell_type": "markdown",
      "metadata": {
        "id": "-OS3Ac017T1i"
      },
      "source": [
        "# Checking the Installation\n",
        "The `versioninfo()` function should print your Julia version and some other info about the system:"
      ]
    },
    {
      "cell_type": "code",
      "execution_count": null,
      "metadata": {
        "colab": {
          "base_uri": "https://localhost:8080/"
        },
        "id": "EEzvvzCl1i0F",
        "outputId": "5a838cac-8b2e-498b-8d9e-93a671119764"
      },
      "outputs": [
        {
          "output_type": "stream",
          "name": "stdout",
          "text": [
            "Julia Version 1.8.2\n",
            "Commit 36034abf260 (2022-09-29 15:21 UTC)\n",
            "Platform Info:\n",
            "  OS: Linux (x86_64-linux-gnu)\n",
            "  CPU: 2 × Intel(R) Xeon(R) CPU @ 2.20GHz\n",
            "  WORD_SIZE: 64\n",
            "  LIBM: libopenlibm\n",
            "  LLVM: libLLVM-13.0.1 (ORCJIT, broadwell)\n",
            "  Threads: 2 on 2 virtual cores\n",
            "Environment:\n",
            "  LD_LIBRARY_PATH = /usr/local/nvidia/lib:/usr/local/nvidia/lib64\n",
            "  JULIA_NUM_THREADS = 2\n"
          ]
        }
      ],
      "source": [
        "versioninfo()"
      ]
    },
    {
      "cell_type": "markdown",
      "metadata": {
        "id": "2dYb7QTOavAk"
      },
      "source": [
        "# Initial Solver\n",
        "Run Installation First\n"
      ]
    },
    {
      "cell_type": "code",
      "execution_count": 1,
      "metadata": {
        "id": "rs0yhKsZa7yT",
        "colab": {
          "base_uri": "https://localhost:8080/"
        },
        "outputId": "0c04de96-a87b-4c2d-a932-192e24f64f08"
      },
      "outputs": [
        {
          "output_type": "stream",
          "name": "stderr",
          "text": [
            "\u001b[32m\u001b[1m    Updating\u001b[22m\u001b[39m registry at `~/.julia/registries/General.toml`\n",
            "\u001b[32m\u001b[1m   Resolving\u001b[22m\u001b[39m package versions...\n",
            "\u001b[32m\u001b[1m   Installed\u001b[22m\u001b[39m TableTraits ───────────────── v1.0.1\n",
            "\u001b[32m\u001b[1m   Installed\u001b[22m\u001b[39m PooledArrays ──────────────── v1.4.3\n",
            "\u001b[32m\u001b[1m   Installed\u001b[22m\u001b[39m IteratorInterfaceExtensions ─ v1.0.0\n",
            "\u001b[32m\u001b[1m   Installed\u001b[22m\u001b[39m SentinelArrays ────────────── v1.4.1\n",
            "\u001b[32m\u001b[1m   Installed\u001b[22m\u001b[39m InlineStrings ─────────────── v1.4.0\n",
            "\u001b[32m\u001b[1m   Installed\u001b[22m\u001b[39m Tables ────────────────────── v1.11.1\n",
            "\u001b[32m\u001b[1m   Installed\u001b[22m\u001b[39m DataAPI ───────────────────── v1.16.0\n",
            "\u001b[32m\u001b[1m   Installed\u001b[22m\u001b[39m DataValueInterfaces ───────── v1.0.0\n",
            "\u001b[32m\u001b[1m   Installed\u001b[22m\u001b[39m OrderedCollections ────────── v1.6.3\n",
            "\u001b[32m\u001b[1m   Installed\u001b[22m\u001b[39m WeakRefStrings ────────────── v1.4.2\n",
            "\u001b[32m\u001b[1m   Installed\u001b[22m\u001b[39m FilePathsBase ─────────────── v0.9.21\n",
            "\u001b[32m\u001b[1m   Installed\u001b[22m\u001b[39m Compat ────────────────────── v4.14.0\n",
            "\u001b[32m\u001b[1m   Installed\u001b[22m\u001b[39m WorkerUtilities ───────────── v1.6.1\n",
            "\u001b[32m\u001b[1m   Installed\u001b[22m\u001b[39m CodecZlib ─────────────────── v0.7.4\n",
            "\u001b[32m\u001b[1m   Installed\u001b[22m\u001b[39m TranscodingStreams ────────── v0.10.7\n",
            "\u001b[32m\u001b[1m   Installed\u001b[22m\u001b[39m CSV ───────────────────────── v0.10.14\n",
            "\u001b[32m\u001b[1m    Updating\u001b[22m\u001b[39m `~/.julia/environments/v1.8/Project.toml`\n",
            " \u001b[90m [336ed68f] \u001b[39m\u001b[92m+ CSV v0.10.14\u001b[39m\n",
            "\u001b[32m\u001b[1m    Updating\u001b[22m\u001b[39m `~/.julia/environments/v1.8/Manifest.toml`\n",
            " \u001b[90m [336ed68f] \u001b[39m\u001b[92m+ CSV v0.10.14\u001b[39m\n",
            " \u001b[90m [944b1d66] \u001b[39m\u001b[92m+ CodecZlib v0.7.4\u001b[39m\n",
            " \u001b[90m [34da2185] \u001b[39m\u001b[92m+ Compat v4.14.0\u001b[39m\n",
            " \u001b[90m [9a962f9c] \u001b[39m\u001b[92m+ DataAPI v1.16.0\u001b[39m\n",
            " \u001b[90m [e2d170a0] \u001b[39m\u001b[92m+ DataValueInterfaces v1.0.0\u001b[39m\n",
            " \u001b[90m [48062228] \u001b[39m\u001b[92m+ FilePathsBase v0.9.21\u001b[39m\n",
            " \u001b[90m [842dd82b] \u001b[39m\u001b[92m+ InlineStrings v1.4.0\u001b[39m\n",
            " \u001b[90m [82899510] \u001b[39m\u001b[92m+ IteratorInterfaceExtensions v1.0.0\u001b[39m\n",
            " \u001b[90m [bac558e1] \u001b[39m\u001b[92m+ OrderedCollections v1.6.3\u001b[39m\n",
            " \u001b[90m [2dfb63ee] \u001b[39m\u001b[92m+ PooledArrays v1.4.3\u001b[39m\n",
            " \u001b[90m [91c51154] \u001b[39m\u001b[92m+ SentinelArrays v1.4.1\u001b[39m\n",
            " \u001b[90m [3783bdb8] \u001b[39m\u001b[92m+ TableTraits v1.0.1\u001b[39m\n",
            " \u001b[90m [bd369af6] \u001b[39m\u001b[92m+ Tables v1.11.1\u001b[39m\n",
            " \u001b[90m [3bb67fe8] \u001b[39m\u001b[92m+ TranscodingStreams v0.10.7\u001b[39m\n",
            " \u001b[90m [ea10d353] \u001b[39m\u001b[92m+ WeakRefStrings v1.4.2\u001b[39m\n",
            " \u001b[90m [76eceee3] \u001b[39m\u001b[92m+ WorkerUtilities v1.6.1\u001b[39m\n",
            " \u001b[90m [9fa8497b] \u001b[39m\u001b[92m+ Future\u001b[39m\n",
            "\u001b[32m\u001b[1mPrecompiling\u001b[22m\u001b[39m project...\n",
            "\u001b[32m  ✓ \u001b[39m\u001b[90mDataValueInterfaces\u001b[39m\n",
            "\u001b[32m  ✓ \u001b[39m\u001b[90mIteratorInterfaceExtensions\u001b[39m\n",
            "\u001b[32m  ✓ \u001b[39m\u001b[90mDataAPI\u001b[39m\n",
            "\u001b[32m  ✓ \u001b[39m\u001b[90mCompat\u001b[39m\n",
            "\u001b[32m  ✓ \u001b[39m\u001b[90mWorkerUtilities\u001b[39m\n",
            "\u001b[32m  ✓ \u001b[39m\u001b[90mSentinelArrays\u001b[39m\n",
            "\u001b[32m  ✓ \u001b[39m\u001b[90mOrderedCollections\u001b[39m\n",
            "\u001b[32m  ✓ \u001b[39m\u001b[90mTableTraits\u001b[39m\n",
            "\u001b[32m  ✓ \u001b[39m\u001b[90mTranscodingStreams\u001b[39m\n",
            "\u001b[32m  ✓ \u001b[39m\u001b[90mPooledArrays\u001b[39m\n",
            "\u001b[32m  ✓ \u001b[39m\u001b[90mInlineStrings\u001b[39m\n",
            "\u001b[32m  ✓ \u001b[39m\u001b[90mFilePathsBase\u001b[39m\n",
            "\u001b[32m  ✓ \u001b[39m\u001b[90mTables\u001b[39m\n",
            "\u001b[32m  ✓ \u001b[39m\u001b[90mCodecZlib\u001b[39m\n",
            "\u001b[32m  ✓ \u001b[39m\u001b[90mWeakRefStrings\u001b[39m\n",
            "\u001b[32m  ✓ \u001b[39mCSV\n",
            "  16 dependencies successfully precompiled in 27 seconds. 20 already precompiled.\n",
            "\u001b[32m\u001b[1m   Resolving\u001b[22m\u001b[39m package versions...\n",
            "\u001b[32m\u001b[1m    Updating\u001b[22m\u001b[39m `~/.julia/environments/v1.8/Project.toml`\n",
            " \u001b[90m [bd369af6] \u001b[39m\u001b[92m+ Tables v1.11.1\u001b[39m\n",
            "\u001b[32m\u001b[1m  No Changes\u001b[22m\u001b[39m to `~/.julia/environments/v1.8/Manifest.toml`\n",
            "\u001b[32m\u001b[1m   Resolving\u001b[22m\u001b[39m package versions...\n",
            "\u001b[32m\u001b[1m   Installed\u001b[22m\u001b[39m IrrationalConstants ── v0.2.2\n",
            "\u001b[32m\u001b[1m   Installed\u001b[22m\u001b[39m DiffResults ────────── v1.1.0\n",
            "\u001b[32m\u001b[1m   Installed\u001b[22m\u001b[39m CodecBzip2 ─────────── v0.8.2\n",
            "\u001b[32m\u001b[1m   Installed\u001b[22m\u001b[39m DiffRules ──────────── v1.15.1\n",
            "\u001b[32m\u001b[1m   Installed\u001b[22m\u001b[39m Bzip2_jll ──────────── v1.0.8+1\n",
            "\u001b[32m\u001b[1m   Installed\u001b[22m\u001b[39m MutableArithmetics ─── v1.4.4\n",
            "\u001b[32m\u001b[1m   Installed\u001b[22m\u001b[39m StaticArraysCore ───── v1.4.2\n",
            "\u001b[32m\u001b[1m   Installed\u001b[22m\u001b[39m SpecialFunctions ───── v2.3.1\n",
            "\u001b[32m\u001b[1m   Installed\u001b[22m\u001b[39m StaticArrays ───────── v1.9.3\n",
            "\u001b[32m\u001b[1m   Installed\u001b[22m\u001b[39m NaNMath ────────────── v1.0.2\n",
            "\u001b[32m\u001b[1m   Installed\u001b[22m\u001b[39m ForwardDiff ────────── v0.10.36\n",
            "\u001b[32m\u001b[1m   Installed\u001b[22m\u001b[39m CommonSubexpressions ─ v0.3.0\n",
            "\u001b[32m\u001b[1m   Installed\u001b[22m\u001b[39m ChainRulesCore ─────── v1.23.0\n",
            "\u001b[32m\u001b[1m   Installed\u001b[22m\u001b[39m LogExpFunctions ────── v0.3.27\n",
            "\u001b[32m\u001b[1m   Installed\u001b[22m\u001b[39m DataStructures ─────── v0.18.20\n",
            "\u001b[32m\u001b[1m   Installed\u001b[22m\u001b[39m MacroTools ─────────── v0.5.13\n",
            "\u001b[32m\u001b[1m   Installed\u001b[22m\u001b[39m JuMP ───────────────── v1.21.1\n",
            "\u001b[32m\u001b[1m   Installed\u001b[22m\u001b[39m OpenSpecFun_jll ────── v0.5.5+0\n",
            "\u001b[32m\u001b[1m   Installed\u001b[22m\u001b[39m InverseFunctions ───── v0.1.14\n",
            "\u001b[32m\u001b[1m   Installed\u001b[22m\u001b[39m ChangesOfVariables ─── v0.1.8\n",
            "\u001b[32m\u001b[1m   Installed\u001b[22m\u001b[39m DocStringExtensions ── v0.9.3\n",
            "\u001b[32m\u001b[1m   Installed\u001b[22m\u001b[39m MathOptInterface ───── v1.29.0\n",
            "\u001b[32m\u001b[1m    Updating\u001b[22m\u001b[39m `~/.julia/environments/v1.8/Project.toml`\n",
            " \u001b[90m [4076af6c] \u001b[39m\u001b[92m+ JuMP v1.21.1\u001b[39m\n",
            "\u001b[32m\u001b[1m    Updating\u001b[22m\u001b[39m `~/.julia/environments/v1.8/Manifest.toml`\n",
            " \u001b[90m [d360d2e6] \u001b[39m\u001b[92m+ ChainRulesCore v1.23.0\u001b[39m\n",
            " \u001b[90m [9e997f8a] \u001b[39m\u001b[92m+ ChangesOfVariables v0.1.8\u001b[39m\n",
            " \u001b[90m [523fee87] \u001b[39m\u001b[92m+ CodecBzip2 v0.8.2\u001b[39m\n",
            " \u001b[90m [bbf7d656] \u001b[39m\u001b[92m+ CommonSubexpressions v0.3.0\u001b[39m\n",
            " \u001b[90m [864edb3b] \u001b[39m\u001b[92m+ DataStructures v0.18.20\u001b[39m\n",
            " \u001b[90m [163ba53b] \u001b[39m\u001b[92m+ DiffResults v1.1.0\u001b[39m\n",
            " \u001b[90m [b552c78f] \u001b[39m\u001b[92m+ DiffRules v1.15.1\u001b[39m\n",
            " \u001b[90m [ffbed154] \u001b[39m\u001b[92m+ DocStringExtensions v0.9.3\u001b[39m\n",
            " \u001b[90m [f6369f11] \u001b[39m\u001b[92m+ ForwardDiff v0.10.36\u001b[39m\n",
            " \u001b[90m [3587e190] \u001b[39m\u001b[92m+ InverseFunctions v0.1.14\u001b[39m\n",
            " \u001b[90m [92d709cd] \u001b[39m\u001b[92m+ IrrationalConstants v0.2.2\u001b[39m\n",
            " \u001b[90m [4076af6c] \u001b[39m\u001b[92m+ JuMP v1.21.1\u001b[39m\n",
            " \u001b[90m [2ab3a3ac] \u001b[39m\u001b[92m+ LogExpFunctions v0.3.27\u001b[39m\n",
            " \u001b[90m [1914dd2f] \u001b[39m\u001b[92m+ MacroTools v0.5.13\u001b[39m\n",
            " \u001b[90m [b8f27783] \u001b[39m\u001b[92m+ MathOptInterface v1.29.0\u001b[39m\n",
            " \u001b[90m [d8a4904e] \u001b[39m\u001b[92m+ MutableArithmetics v1.4.4\u001b[39m\n",
            " \u001b[90m [77ba4419] \u001b[39m\u001b[92m+ NaNMath v1.0.2\u001b[39m\n",
            " \u001b[90m [276daf66] \u001b[39m\u001b[92m+ SpecialFunctions v2.3.1\u001b[39m\n",
            " \u001b[90m [90137ffa] \u001b[39m\u001b[92m+ StaticArrays v1.9.3\u001b[39m\n",
            " \u001b[90m [1e83bf80] \u001b[39m\u001b[92m+ StaticArraysCore v1.4.2\u001b[39m\n",
            " \u001b[90m [6e34b625] \u001b[39m\u001b[92m+ Bzip2_jll v1.0.8+1\u001b[39m\n",
            " \u001b[90m [efe28fd5] \u001b[39m\u001b[92m+ OpenSpecFun_jll v0.5.5+0\u001b[39m\n",
            " \u001b[90m [05823500] \u001b[39m\u001b[92m+ OpenLibm_jll v0.8.1+0\u001b[39m\n",
            "\u001b[32m\u001b[1mPrecompiling\u001b[22m\u001b[39m project...\n",
            "\u001b[32m  ✓ \u001b[39m\u001b[90mOpenLibm_jll\u001b[39m\n",
            "\u001b[32m  ✓ \u001b[39m\u001b[90mInverseFunctions\u001b[39m\n",
            "\u001b[32m  ✓ \u001b[39m\u001b[90mDocStringExtensions\u001b[39m\n",
            "\u001b[32m  ✓ \u001b[39m\u001b[90mIrrationalConstants\u001b[39m\n",
            "\u001b[32m  ✓ \u001b[39m\u001b[90mStaticArraysCore\u001b[39m\n",
            "\u001b[32m  ✓ \u001b[39m\u001b[90mChainRulesCore\u001b[39m\n",
            "\u001b[32m  ✓ \u001b[39m\u001b[90mMacroTools\u001b[39m\n",
            "\u001b[32m  ✓ \u001b[39m\u001b[90mBzip2_jll\u001b[39m\n",
            "\u001b[32m  ✓ \u001b[39m\u001b[90mOpenSpecFun_jll\u001b[39m\n",
            "\u001b[32m  ✓ \u001b[39m\u001b[90mNaNMath\u001b[39m\n",
            "\u001b[32m  ✓ \u001b[39m\u001b[90mDataStructures\u001b[39m\n",
            "\u001b[32m  ✓ \u001b[39m\u001b[90mChangesOfVariables\u001b[39m\n",
            "\u001b[32m  ✓ \u001b[39m\u001b[90mDiffResults\u001b[39m\n",
            "\u001b[32m  ✓ \u001b[39m\u001b[90mCommonSubexpressions\u001b[39m\n",
            "\u001b[32m  ✓ \u001b[39m\u001b[90mCodecBzip2\u001b[39m\n",
            "\u001b[32m  ✓ \u001b[39m\u001b[90mMutableArithmetics\u001b[39m\n",
            "\u001b[32m  ✓ \u001b[39m\u001b[90mLogExpFunctions\u001b[39m\n",
            "\u001b[32m  ✓ \u001b[39m\u001b[90mSpecialFunctions\u001b[39m\n",
            "\u001b[32m  ✓ \u001b[39m\u001b[90mDiffRules\u001b[39m\n",
            "\u001b[32m  ✓ \u001b[39m\u001b[90mStaticArrays\u001b[39m\n",
            "\u001b[32m  ✓ \u001b[39m\u001b[90mForwardDiff\u001b[39m\n",
            "\u001b[32m  ✓ \u001b[39m\u001b[90mMathOptInterface\u001b[39m\n",
            "\u001b[32m  ✓ \u001b[39mJuMP\n",
            "  23 dependencies successfully precompiled in 165 seconds. 36 already precompiled.\n",
            "\u001b[32m\u001b[1m   Resolving\u001b[22m\u001b[39m package versions...\n",
            "\u001b[32m\u001b[1m   Installed\u001b[22m\u001b[39m HiGHS_jll ─ v1.7.0+0\n",
            "\u001b[32m\u001b[1m   Installed\u001b[22m\u001b[39m HiGHS ───── v1.9.0\n",
            "\u001b[32m\u001b[1m    Updating\u001b[22m\u001b[39m `~/.julia/environments/v1.8/Project.toml`\n",
            " \u001b[90m [87dc4568] \u001b[39m\u001b[92m+ HiGHS v1.9.0\u001b[39m\n",
            "\u001b[32m\u001b[1m    Updating\u001b[22m\u001b[39m `~/.julia/environments/v1.8/Manifest.toml`\n",
            " \u001b[90m [87dc4568] \u001b[39m\u001b[92m+ HiGHS v1.9.0\u001b[39m\n",
            " \u001b[90m [8fd58aa0] \u001b[39m\u001b[92m+ HiGHS_jll v1.7.0+0\u001b[39m\n",
            "\u001b[32m\u001b[1mPrecompiling\u001b[22m\u001b[39m project...\n",
            "\u001b[32m  ✓ \u001b[39m\u001b[90mHiGHS_jll\u001b[39m\n",
            "\u001b[32m  ✓ \u001b[39mHiGHS\n",
            "  2 dependencies successfully precompiled in 29 seconds. 59 already precompiled.\n"
          ]
        }
      ],
      "source": [
        "import Pkg; Pkg.add(\"CSV\")\n",
        "import Pkg; Pkg.add(\"Tables\")\n",
        "import Pkg; Pkg.add(\"JuMP\")\n",
        "import Pkg; Pkg.add(\"HiGHS\")\n",
        "\n",
        "import CSV\n",
        "import Tables\n",
        "import JuMP\n",
        "import HiGHS\n",
        "import JuMP.Containers\n",
        "using CSV\n",
        "using Tables\n",
        "using JuMP\n",
        "using HiGHS\n",
        "using JuMP.Containers"
      ]
    },
    {
      "cell_type": "code",
      "execution_count": 5,
      "metadata": {
        "id": "VWL_Gyvua_38",
        "colab": {
          "base_uri": "https://localhost:8080/"
        },
        "outputId": "d03cd55e-63c0-42e5-d87d-c0dc00e2a3fc"
      },
      "outputs": [
        {
          "output_type": "execute_result",
          "data": {
            "text/plain": [
              "187-element Vector{Any}:\n",
              " \"桜丘小学校\"\n",
              " \"中山中学校\"\n",
              " \"中山小学校\"\n",
              " \"北仙台中学校\"\n",
              " \"台原小学校\"\n",
              " \"旭丘小学校\"\n",
              " \"荒巻小学校\"\n",
              " \"国見小学校\"\n",
              " \"三条中学校\"\n",
              " \"通町小学校\"\n",
              " \"小松島小学校\"\n",
              " \"八幡小学校\"\n",
              " \"木町通小学校\"\n",
              " ⋮\n",
              " \"将監東中学校\"\n",
              " \"将監中学校\"\n",
              " \"将監西小学校\"\n",
              " \"高森東小学校\"\n",
              " \"長命ケ丘小学校\"\n",
              " \"南中山中学校\"\n",
              " \"寺岡小学校\"\n",
              " \"住吉台中学校\"\n",
              " \"根白石中学校\"\n",
              " \"館中学校\"\n",
              " \"仙台商業高等学校\"\n",
              " \"市名坂小学校\""
            ]
          },
          "metadata": {},
          "execution_count": 5
        }
      ],
      "source": [
        "input_evacuee_matrix = CSV.File(\"input_evacuee_matrix.csv\") |> Tables.matrix\n",
        "input_shelter_matrix = CSV.File(\"input_shelter_matrix.csv\") |> Tables.matrix\n",
        "\n",
        "evacuee_names = input_evacuee_matrix[1:990,1]\n",
        "shelter_names = input_shelter_matrix[:,1]"
      ]
    },
    {
      "cell_type": "code",
      "execution_count": null,
      "metadata": {
        "id": "7zBZ93UIbE8j"
      },
      "outputs": [],
      "source": [
        "full_cost_matrix = CSV.File(\"final_cost_matrix.csv\") |> Tables.matrix\n",
        "\n",
        "edited_cost_matrix = full_cost_matrix[:,2:end]\n",
        "\n",
        "full_cost_array = Containers.DenseAxisArray(edited_cost_matrix, 1:990, 1:187)\n",
        "\n",
        "shelter_numbers = input_shelter_matrix[1:end,2]\n",
        "\n",
        "evacuee_numbers = input_evacuee_matrix[1:end,2]\n",
        "\n",
        "function solve_transportation_problem(data::Containers.DenseAxisArray,shelter_numbers,evacuee_numbers)\n",
        "    # Get the set of supplies and demands\n",
        "    O, D = axes(data)\n",
        "    # Drop the EVACUEES and VACANCIES nodes from our sets\n",
        "    #O, D = setdiff(O, [\"VACANCIES\"]), setdiff(D, [\"EVACUEES\"])\n",
        "    model = Model(HiGHS.Optimizer)\n",
        "    set_silent(model)\n",
        "    @variable(model, x[o in O, d in D] >= 0)\n",
        "    # Remove arcs with \".\" cost by fixing them to 0.0.\n",
        "    for o in O, d in D\n",
        "        if data[o, d] == \".\"\n",
        "            fix(x[o, d], 0.0; force = true)\n",
        "        end\n",
        "    end\n",
        "    @objective(\n",
        "        model,\n",
        "        Min,\n",
        "        sum(data[o, d] * x[o, d] for o in O, d in D if data[o, d] != \".\"),\n",
        "    )\n",
        "    @constraint(model, [o in O], sum(x[o, :]) == evacuee_numbers[o])\n",
        "    @constraint(model, [d in D], sum(x[:, d]) <= shelter_numbers[d])\n",
        "    optimize!(model)\n",
        "\n",
        "\n",
        "    # Construct the solution matrix\n",
        "    solution_matrix = zeros(length(O), length(D))  # Initialize with zeros\n",
        "\n",
        "    for (i, o) in enumerate(O)\n",
        "        for (j, d) in enumerate(D)\n",
        "            solution_matrix[i, j] = value(x[o, d])\n",
        "        end\n",
        "    end\n",
        "\n",
        "    # Pretty print the solution in the format of the input\n",
        "    print(\"    \", join(lpad.(D, 7, ' ')))\n",
        "    for o in O\n",
        "        print(\"\\n\", o)\n",
        "        for d in D\n",
        "            if isapprox(value(x[o, d]), 0.0; atol = 1e-6)\n",
        "                print(\"      .\")\n",
        "            else\n",
        "                print(\" \", lpad(value(x[o, d]), 6, ' '))\n",
        "            end\n",
        "        end\n",
        "    end\n",
        "    return solution_matrix\n",
        "end\n",
        "\n",
        "print(\"\\nSolution:\\n\")\n",
        "solution_matrix = solve_transportation_problem(full_cost_array, shelter_numbers, evacuee_numbers)\n",
        "println(solution_matrix)\n",
        "\n",
        "CSV.write(\"sendai_solution_matrix.csv\", Tables.table(solution_matrix))\n"
      ]
    },
    {
      "cell_type": "code",
      "execution_count": 7,
      "metadata": {
        "colab": {
          "base_uri": "https://localhost:8080/"
        },
        "id": "eyH1uConqMS3",
        "outputId": "af629685-13ad-476c-ee3f-c98233538317"
      },
      "outputs": [
        {
          "output_type": "stream",
          "name": "stdout",
          "text": [
            "Average distance per evacuee: 0.9297263176521238\n"
          ]
        }
      ],
      "source": [
        "#NOT DONE Total Cost Calculation\n",
        "solution_cost = full_cost_array.data[1:end-1,1:end-1]\n",
        "matching_indicies = findall(x-> x == \".\", solution_cost)\n",
        "solution_cost[matching_indicies] .= 0\n",
        "#solution_matrix .* solution_cost\n",
        "total_cost_matrix = solution_cost.*solution_matrix\n",
        "running_total = sum(total_cost_matrix)\n",
        "initial_running_total = running_total\n",
        "print(\"Average distance per evacuee: \")\n",
        "println(initial_running_total/sum(evacuee_numbers))"
      ]
    },
    {
      "cell_type": "markdown",
      "metadata": {
        "id": "oun-QwRai2n3"
      },
      "source": [
        "# Testing"
      ]
    },
    {
      "cell_type": "code",
      "execution_count": 8,
      "metadata": {
        "colab": {
          "base_uri": "https://localhost:8080/"
        },
        "id": "msgrtv2ni4l7",
        "outputId": "52d54aeb-cd04-4742-906e-db3fd01d2fd8"
      },
      "outputs": [
        {
          "output_type": "execute_result",
          "data": {
            "text/plain": [
              "true"
            ]
          },
          "metadata": {},
          "execution_count": 8
        }
      ],
      "source": [
        "function is_evacuee_numbers_matching(solution_matrix,evacuee_numbers)\n",
        "  column_wise_solution_sum = sum(solution_matrix, dims=2)\n",
        "  int_column_wise_solution_sum = Int.(column_wise_solution_sum)\n",
        "  evacuees_comparison = int_column_wise_solution_sum .== evacuee_numbers\n",
        "  return prod(evacuees_comparison)\n",
        "end\n",
        "\n",
        "is_evacuee_numbers_matching(solution_matrix,evacuee_numbers)"
      ]
    },
    {
      "cell_type": "code",
      "execution_count": 9,
      "metadata": {
        "colab": {
          "base_uri": "https://localhost:8080/"
        },
        "id": "jApcO9EJmxbo",
        "outputId": "9de04da8-545e-4cbd-fca4-acc5c5df62c8"
      },
      "outputs": [
        {
          "output_type": "execute_result",
          "data": {
            "text/plain": [
              "true"
            ]
          },
          "metadata": {},
          "execution_count": 9
        }
      ],
      "source": [
        "function is_shelter_not_overflowing(solution_matrix,shelter_numbers)\n",
        "  row_wise_solution_sum = sum(solution_matrix, dims=1)\n",
        "  int_row_wise_solution_sum = Int.(row_wise_solution_sum)\n",
        "  shelter_comparison = int_row_wise_solution_sum[1,:] .<= shelter_numbers\n",
        "  return prod(shelter_comparison)\n",
        "end\n",
        "\n",
        "is_shelter_not_overflowing(solution_matrix,shelter_numbers)"
      ]
    },
    {
      "cell_type": "code",
      "execution_count": 10,
      "metadata": {
        "id": "hG0951IbqXjn",
        "colab": {
          "base_uri": "https://localhost:8080/",
          "height": 700
        },
        "outputId": "3ecaebf9-fd8d-4037-e955-c873726e1123"
      },
      "outputs": [
        {
          "output_type": "stream",
          "name": "stdout",
          "text": [
            "Shelter Total Capacity: 1301750\n",
            "Evacuee Numbers: 1096344\n",
            "Overload Evacuee Numbers: 1301751\n"
          ]
        },
        {
          "output_type": "error",
          "ename": "LoadError",
          "evalue": "Result index of attribute MathOptInterface.VariablePrimal(1) out of bounds. There are currently 0 solution(s) in the model.",
          "traceback": [
            "Result index of attribute MathOptInterface.VariablePrimal(1) out of bounds. There are currently 0 solution(s) in the model.",
            "",
            "Stacktrace:",
            "  [1] check_result_index_bounds",
            "    @ ~/.julia/packages/MathOptInterface/2rAFb/src/attributes.jl:207 [inlined]",
            "  [2] get",
            "    @ ~/.julia/packages/HiGHS/y7dA4/src/MOI_wrapper.jl:2127 [inlined]",
            "  [3] get(b::MathOptInterface.Bridges.LazyBridgeOptimizer{HiGHS.Optimizer}, attr::MathOptInterface.VariablePrimal, index::MathOptInterface.VariableIndex)",
            "    @ MathOptInterface.Bridges ~/.julia/packages/MathOptInterface/2rAFb/src/Bridges/bridge_optimizer.jl:1265",
            "  [4] get(model::MathOptInterface.Utilities.CachingOptimizer{MathOptInterface.Bridges.LazyBridgeOptimizer{HiGHS.Optimizer}, MathOptInterface.Utilities.UniversalFallback{MathOptInterface.Utilities.Model{Float64}}}, attr::MathOptInterface.VariablePrimal, index::MathOptInterface.VariableIndex)",
            "    @ MathOptInterface.Utilities ~/.julia/packages/MathOptInterface/2rAFb/src/Utilities/cachingoptimizer.jl:932",
            "  [5] _moi_get_result(::MathOptInterface.Utilities.CachingOptimizer{MathOptInterface.Bridges.LazyBridgeOptimizer{HiGHS.Optimizer}, MathOptInterface.Utilities.UniversalFallback{MathOptInterface.Utilities.Model{Float64}}}, ::MathOptInterface.VariablePrimal, ::Vararg{Any})",
            "    @ JuMP ~/.julia/packages/JuMP/as6Ji/src/optimizer_interface.jl:729",
            "  [6] get(model::Model, attr::MathOptInterface.VariablePrimal, v::VariableRef)",
            "    @ JuMP ~/.julia/packages/JuMP/as6Ji/src/optimizer_interface.jl:769",
            "  [7] value(v::VariableRef; result::Int64)",
            "    @ JuMP ~/.julia/packages/JuMP/as6Ji/src/variables.jl:1793",
            "  [8] value",
            "    @ ~/.julia/packages/JuMP/as6Ji/src/variables.jl:1792 [inlined]",
            "  [9] solve_transportation_problem(data::DenseAxisArray{Any, 2, Tuple{UnitRange{Int64}, UnitRange{Int64}}, Tuple{JuMP.Containers._AxisLookup{Tuple{Int64, Int64}}, JuMP.Containers._AxisLookup{Tuple{Int64, Int64}}}}, shelter_numbers::Vector{Any}, evacuee_numbers::Vector{Any})",
            "    @ Main ./In[6]:40",
            " [10] top-level scope",
            "    @ In[10]:14"
          ]
        }
      ],
      "source": [
        "#Evacuee = shelter_max +1 overload check\n",
        "print(\"Shelter Total Capacity: \" )\n",
        "println(sum(shelter_numbers))\n",
        "print(\"Evacuee Numbers: \" )\n",
        "println(sum(evacuee_numbers))\n",
        "\n",
        "shelter_evacuee_difference = sum(shelter_numbers) - sum(evacuee_numbers)\n",
        "overload_evacuee_numbers = deepcopy(evacuee_numbers)\n",
        "overload_evacuee_numbers[1] += shelter_evacuee_difference +1\n",
        "\n",
        "print(\"Overload Evacuee Numbers: \")\n",
        "println(sum(overload_evacuee_numbers))\n",
        "\n",
        "overload_solution_matrix = solve_transportation_problem(full_cost_array, shelter_numbers, overload_evacuee_numbers)\n",
        "println(overload_solution_matrix)\n"
      ]
    },
    {
      "cell_type": "code",
      "execution_count": 11,
      "metadata": {
        "colab": {
          "base_uri": "https://localhost:8080/"
        },
        "id": "JZA5WFmdnIvH",
        "outputId": "32c016e9-801d-4b1d-e79b-f9b1a40004b7"
      },
      "outputs": [
        {
          "output_type": "stream",
          "name": "stdout",
          "text": [
            "(991, 188)\n"
          ]
        }
      ],
      "source": [
        "full_cost_array = Containers.DenseAxisArray(edited_cost_matrix, 1:990, 1:187)\n",
        "println(size(full_cost_array))\n",
        "#println(num_rows)\n",
        "#println(num_cols)\n",
        "#println(size(edited_cost_matrix))"
      ]
    },
    {
      "cell_type": "markdown",
      "source": [
        "# Derivative Calculation"
      ],
      "metadata": {
        "id": "qSQoCNtJjrcS"
      }
    },
    {
      "cell_type": "code",
      "execution_count": 43,
      "metadata": {
        "colab": {
          "base_uri": "https://localhost:8080/"
        },
        "id": "5mjQjl12t1t_",
        "outputId": "bf749307-34cf-41e5-c250-f50870768e17"
      },
      "outputs": [
        {
          "output_type": "stream",
          "name": "stdout",
          "text": [
            "total calculations: 185130\n",
            "reduced calculations: 0\n",
            "new total calculations: 185130\n"
          ]
        }
      ],
      "source": [
        "full_cost_matrix = CSV.File(\"final_cost_matrix.csv\") |> Tables.matrix\n",
        "\n",
        "edited_cost_matrix = full_cost_matrix[:,2:end]\n",
        "\n",
        "full_cost_array = Containers.DenseAxisArray(edited_cost_matrix, 1:990, 1:187)\n",
        "\n",
        "maximum_distance_variable = 1000\n",
        "\n",
        "num_rows, num_cols = axes(full_cost_array)\n",
        "testing_counter = 0\n",
        "for i in num_rows\n",
        "    for j in num_cols\n",
        "        if full_cost_array[i,j]>= maximum_distance_variable\n",
        "            testing_counter+=1\n",
        "        end\n",
        "    end\n",
        "end\n",
        "print(\"total calculations: \")\n",
        "println((size(num_rows)[1]*(size(num_cols)[1])))\n",
        "print(\"reduced calculations: \")\n",
        "println(testing_counter)\n",
        "print(\"new total calculations: \")\n",
        "println(((size(num_rows)[1]*(size(num_cols)[1]))-testing_counter))"
      ]
    },
    {
      "cell_type": "code",
      "execution_count": 44,
      "metadata": {
        "colab": {
          "base_uri": "https://localhost:8080/"
        },
        "id": "__BaOr7kl8lo",
        "outputId": "581ddef9-db9e-446b-a851-e0d791d59205"
      },
      "outputs": [
        {
          "output_type": "execute_result",
          "data": {
            "text/plain": [
              "\"maximum_distance_full_cost_array.csv\""
            ]
          },
          "metadata": {},
          "execution_count": 44
        }
      ],
      "source": [
        "edited_cost_matrix = full_cost_matrix[:,2:end]\n",
        "\n",
        "maximum_distance_full_cost_array = Containers.DenseAxisArray(edited_cost_matrix, 1:991, 1:188)\n",
        "num_rows, num_cols = axes(maximum_distance_full_cost_array)\n",
        "num_rows = num_rows[1:end-1]\n",
        "num_cols = num_cols[1:end-1]\n",
        "for i in num_rows\n",
        "    for j in num_cols\n",
        "      try\n",
        "        if maximum_distance_full_cost_array[i,j]>= maximum_distance_variable\n",
        "           maximum_distance_full_cost_array[i,j] = \".\"\n",
        "        end\n",
        "      catch e\n",
        "        println(i)\n",
        "        println(j)\n",
        "        println(e)\n",
        "      end\n",
        "    end\n",
        "end\n",
        "CSV.write(\"maximum_distance_full_cost_array.csv\", Tables.table(maximum_distance_full_cost_array))"
      ]
    },
    {
      "cell_type": "code",
      "execution_count": 45,
      "metadata": {
        "colab": {
          "base_uri": "https://localhost:8080/"
        },
        "id": "5hL8zhNDsZJi",
        "outputId": "c1ded9b3-0c93-47ab-8c35-dd22c269708a"
      },
      "outputs": [
        {
          "output_type": "stream",
          "name": "stdout",
          "text": [
            "Total disaster locations with possible route: 990.0/990"
          ]
        }
      ],
      "source": [
        "#DONE CHECK IF EACH DISASTER LOCATION HAS A SHELTER\n",
        "maximum_distance_full_cost_array_analysis = CSV.File(\"maximum_distance_full_cost_array.csv\") |> Tables.matrix\n",
        "num_rows, num_cols = axes(maximum_distance_full_cost_array)\n",
        "num_rows = num_rows[1:end-1]\n",
        "num_cols = num_cols[1:end-1]\n",
        "for i in num_rows\n",
        "  for j in num_cols\n",
        "    if maximum_distance_full_cost_array_analysis[i,j] == \".\"\n",
        "      maximum_distance_full_cost_array_analysis[i,j] = 0\n",
        "      else\n",
        "      maximum_distance_full_cost_array_analysis[i,j] = 1\n",
        "    end\n",
        "  end\n",
        "end\n",
        "sum_maximum_distance_full_cost_array_analysis = sum(maximum_distance_full_cost_array_analysis[1:end-1,1:end-1], dims = 2)\n",
        "print(\"Total disaster locations with possible route: \")\n",
        "print(sum(clamp.(sum_maximum_distance_full_cost_array_analysis, 0, 1)))\n",
        "print(\"/\")\n",
        "print(size(num_rows)[1])"
      ]
    },
    {
      "cell_type": "code",
      "source": [
        "#THIS DERIVATIVE WORKS 4/28\n",
        "maximum_distance_full_cost_array = CSV.File(\"maximum_distance_full_cost_array.csv\") |> Tables.matrix\n",
        "data = maximum_distance_full_cost_array[1:end-1,1:end-1]\n",
        "epsilon = 1\n",
        "num_rows, num_cols = axes(data)\n",
        "derivative_matrix = zeros(Float64, length(num_rows), length(num_cols))\n",
        "\n",
        "for (i, o) in enumerate(num_rows[1:3]), (j, d) in enumerate(num_cols[1:3])\n",
        "  original_cost = data[o, d]\n",
        "    if original_cost != \".\"\n",
        "      #original_cost = parse(Float64, original_cost)\n",
        "      println(i)\n",
        "      println(j)\n",
        "      # Increase the cost slightly and re-solve\n",
        "      data[o, d] = original_cost + epsilon\n",
        "\n",
        "      increased_cost_model = Model(HiGHS.Optimizer)\n",
        "      set_silent(increased_cost_model)\n",
        "      @variable(increased_cost_model, x[ii in num_rows, jj in num_cols] >= 0)\n",
        "\n",
        "      for ii in num_rows, jj in num_cols\n",
        "        if data[ii, jj] == \".\"\n",
        "          fix(x[ii, jj], 0.0; force = true)\n",
        "        end\n",
        "      end\n",
        "\n",
        "      @objective(\n",
        "        increased_cost_model,\n",
        "        Min,\n",
        "        sum(data[ii, jj] * x[ii, jj] for ii in num_rows, jj in num_cols if data[ii, jj] isa Number),\n",
        "      )\n",
        "\n",
        "      @constraint(increased_cost_model, [ii in num_rows], sum(x[ii, :]) == evacuee_numbers[ii])\n",
        "      @constraint(increased_cost_model, [jj in num_cols], sum(x[:, jj]) <= shelter_numbers[jj])\n",
        "\n",
        "      optimize!(increased_cost_model)\n",
        "\n",
        "      increased_cost_objective = objective_value(increased_cost_model)\n",
        "      # Decrease the cost slightly and re-solve\n",
        "      data[o, d] = original_cost - epsilon\n",
        "\n",
        "      decreased_cost_model = Model(HiGHS.Optimizer)\n",
        "      set_silent(decreased_cost_model)\n",
        "      @variable(decreased_cost_model, x[ii in num_rows, jj in num_cols] >= 0)\n",
        "\n",
        "      for ii in num_rows, jj in num_cols\n",
        "          if data[ii, jj] == \".\"\n",
        "              fix(x[ii, jj], 0.0; force = true)\n",
        "          end\n",
        "      end\n",
        "\n",
        "      @objective(\n",
        "          decreased_cost_model,\n",
        "          Min,\n",
        "          sum(data[ii, jj] * x[ii, jj] for ii in num_rows, jj in num_cols if data[ii, jj] isa Number),\n",
        "      )\n",
        "      @constraint(decreased_cost_model, [ii in num_rows], sum(x[ii, :]) == evacuee_numbers[ii])\n",
        "      @constraint(decreased_cost_model, [jj in num_cols], sum(x[:, jj]) <= shelter_numbers[jj])\n",
        "      optimize!(decreased_cost_model)\n",
        "      decreased_cost_objective = objective_value(decreased_cost_model)\n",
        "      # Calculate the numerical derivative\n",
        "      derivative = (increased_cost_objective - decreased_cost_objective) / (2 * epsilon)\n",
        "      derivative_matrix[i, j] = derivative\n",
        "      # Reset the original cost\n",
        "      data[o, d] = original_cost\n",
        "    end\n",
        "end\n",
        "println(derivative_matrix)"
      ],
      "metadata": {
        "colab": {
          "base_uri": "https://localhost:8080/",
          "height": 269
        },
        "id": "Ghk5fNZ1tF0u",
        "outputId": "255a33f0-e455-4e8a-dac2-b7cf9fcbd017"
      },
      "execution_count": 65,
      "outputs": [
        {
          "output_type": "stream",
          "name": "stdout",
          "text": [
            "1\n",
            "1\n"
          ]
        },
        {
          "output_type": "error",
          "ename": "LoadError",
          "evalue": "InterruptException:",
          "traceback": [
            "InterruptException:",
            "",
            "Stacktrace:",
            " [1] macro expansion",
            "   @ ~/.julia/packages/MutableArithmetics/iovKe/src/rewrite.jl:325 [inlined]",
            " [2] macro expansion",
            "   @ ~/.julia/packages/JuMP/as6Ji/src/macros.jl:257 [inlined]",
            " [3] macro expansion",
            "   @ ~/.julia/packages/JuMP/as6Ji/src/macros/@objective.jl:66 [inlined]",
            " [4] top-level scope",
            "   @ In[65]:27"
          ]
        }
      ]
    },
    {
      "cell_type": "code",
      "source": [
        "#backup of\n",
        "#working on this one\n",
        "maximum_distance_full_cost_array = CSV.File(\"maximum_distance_full_cost_array.csv\") |> Tables.matrix\n",
        "data = maximum_distance_full_cost_array[1:end-1,1:end-1]\n",
        "epsilon = 1\n",
        "num_rows, num_cols = axes(data)\n",
        "num_rows = num_rows[1:end-1]\n",
        "num_cols = num_cols[1:end-1]\n",
        "derivative_matrix = zeros(Float64, length(num_rows), length(num_cols))\n",
        "O, D = axes(data)\n",
        "\n",
        "for (i, o) in enumerate(num_rows), (j, d) in enumerate(num_cols)\n",
        "  original_cost = data[o, d]\n",
        "    if original_cost != \".\"\n",
        "      original_cost = parse(Float64, original_cost)\n",
        "      println(\"hi\")\n",
        "      # Increase the cost slightly and re-solve\n",
        "      data[o, d] = original_cost + epsilon\n",
        "      increased_cost_model = Model(HiGHS.Optimizer)\n",
        "      set_silent(increased_cost_model)\n",
        "      @variable(increased_cost_model, x[ii in O, jj in D] >= 0)\n",
        "\n",
        "      for ii in O, jj in D\n",
        "        if data[ii, jj] == \".\"\n",
        "          fix(x[ii, jj], 0.0; force = true)\n",
        "        end\n",
        "      end\n",
        "      @objective(\n",
        "        increased_cost_model,\n",
        "        Min,\n",
        "        sum(data[ii, jj] * x[ii, jj] for ii in num_rows, jj in num_cols if data[ii, jj] isa Number),\n",
        "      )\n",
        "      @constraint(increased_cost_model, [ii in num_rows], sum(x[ii, :]) == data[ii, evacuee_numbers])\n",
        "      @constraint(increased_cost_model, [jj in num_cols], sum(x[:, jj]) <= data[shelter_numbers, jj])\n",
        "      optimize!(increased_cost_model)\n",
        "      increased_cost_objective = objective_value(increased_cost_model)\n",
        "      # Decrease the cost slightly and re-solve\n",
        "      data[o, d] = original_cost - epsilon\n",
        "      decreased_cost_model = Model(HiGHS.Optimizer)\n",
        "      set_silent(decreased_cost_model)\n",
        "      @variable(decreased_cost_model, x[ii in O, jj in D] >= 0)\n",
        "\n",
        "      for ii in O, jj in D\n",
        "          if data[ii, jj] == \".\"\n",
        "              fix(x[ii, jj], 0.0; force = true)\n",
        "          end\n",
        "      end\n",
        "      @objective(\n",
        "          decreased_cost_model,\n",
        "          Min,\n",
        "          sum(data[ii, jj] * x[ii, jj] for ii in num_rows, jj in num_cols if data[ii, jj] isa Number),\n",
        "      )\n",
        "      @constraint(decreased_cost_model, [ii in O], sum(x[ii, :]) == data[ii, evacuee_numbers])\n",
        "      @constraint(decreased_cost_model, [jj in D], sum(x[:, jj]) <= data[shelter_numbers, jj])\n",
        "      optimize!(decreased_cost_model)\n",
        "      decreased_cost_objective = objective_value(decreased_cost_model)\n",
        "      # Calculate the numerical derivative\n",
        "      derivative = (increased_cost_objective - decreased_cost_objective) / (2 * epsilon)\n",
        "      derivative_matrix[i, j] = derivative\n",
        "      # Reset the original cost\n",
        "      data[o, d] = original_cost\n",
        "    end\n",
        "end"
      ],
      "metadata": {
        "id": "-qPKnC50yZ34"
      },
      "execution_count": null,
      "outputs": []
    },
    {
      "cell_type": "code",
      "execution_count": null,
      "metadata": {
        "id": "YS_m1NGblHsA"
      },
      "outputs": [],
      "source": [
        "#Derivative Calculation (Pathway Cost)\n",
        "\n",
        "function calculate_numerical_derivative(data::JuMP.Containers.DenseAxisArray{Any, 2}, shelter_numbers, evacuee_numbers, epsilon::Float64 = 1)\n",
        "    O, D = axes(data)\n",
        "    #O, D = setdiff(O, [\"VACANCIES\"]), setdiff(D, [\"EVACUEES\"])\n",
        "    num_rows, num_cols = length(O), length(D)\n",
        "    derivative_matrix = zeros(Float64, num_rows, num_cols)\n",
        "\n",
        "    for (i, o) in enumerate(O), (j, d) in enumerate(D)\n",
        "        original_cost = data[o, d]\n",
        "\n",
        "        if original_cost isa Number\n",
        "            # Increase the cost slightly and re-solve\n",
        "            data[o, d] = original_cost + epsilon\n",
        "            increased_cost_model = Model(HiGHS.Optimizer)\n",
        "            set_silent(increased_cost_model)\n",
        "            @variable(increased_cost_model, x[ii in O, jj in D] >= 0)\n",
        "\n",
        "            for ii in O, jj in D\n",
        "                if data[ii, jj] == \".\"\n",
        "                    fix(x[ii, jj], 0.0; force = true)\n",
        "                end\n",
        "            end\n",
        "\n",
        "            @objective(\n",
        "                increased_cost_model,\n",
        "                Min,\n",
        "                sum(data[ii, jj] * x[ii, jj] for ii in O, jj in D if data[ii, jj] isa Number),\n",
        "            )\n",
        "\n",
        "            @constraint(increased_cost_model, [ii in O], sum(x[ii, :]) == data[ii, evacuee_numbers])\n",
        "            @constraint(increased_cost_model, [jj in D], sum(x[:, jj]) <= data[shelter_numbers, jj])\n",
        "\n",
        "            optimize!(increased_cost_model)\n",
        "            increased_cost_objective = objective_value(increased_cost_model)\n",
        "\n",
        "            # Decrease the cost slightly and re-solve\n",
        "            data[o, d] = original_cost - epsilon\n",
        "            decreased_cost_model = Model(HiGHS.Optimizer)\n",
        "            set_silent(decreased_cost_model)\n",
        "            @variable(decreased_cost_model, x[ii in O, jj in D] >= 0)\n",
        "\n",
        "            for ii in O, jj in D\n",
        "                if data[ii, jj] == \".\"\n",
        "                    fix(x[ii, jj], 0.0; force = true)\n",
        "                end\n",
        "            end\n",
        "\n",
        "            @objective(\n",
        "                decreased_cost_model,\n",
        "                Min,\n",
        "                sum(data[ii, jj] * x[ii, jj] for ii in O, jj in D if data[ii, jj] isa Number),\n",
        "            )\n",
        "\n",
        "            @constraint(decreased_cost_model, [ii in O], sum(x[ii, :]) == data[ii, evacuee_numbers])\n",
        "            @constraint(decreased_cost_model, [jj in D], sum(x[:, jj]) <= data[shelter_numbers, jj])\n",
        "\n",
        "            optimize!(decreased_cost_model)\n",
        "            decreased_cost_objective = objective_value(decreased_cost_model)\n",
        "\n",
        "            # Calculate the numerical derivative\n",
        "            derivative = (increased_cost_objective - decreased_cost_objective) / (2 * epsilon)\n",
        "            derivative_matrix[i, j] = derivative\n",
        "\n",
        "            # Reset the original cost\n",
        "            data[o, d] = original_cost\n",
        "        end\n",
        "    end\n",
        "\n",
        "    return derivative_matrix\n",
        "end\n",
        "\n",
        "# Calculate and print the numerical derivative matrix\n",
        "epsilon = 1.0\n",
        "derivative_matrix = calculate_numerical_derivative(full_cost_array, shelter_numbers, evacuee_numbers, epsilon)\n",
        "println(\"\\nNumerical Derivative Matrix for Pathway:\")\n",
        "for row in eachrow(derivative_matrix)\n",
        "    println(row)\n",
        "end\n",
        "\n",
        "# Derivative Calculation (Shelter Capacity)\n",
        "\n",
        "function calculate_numerical_capacity_derivative(data::JuMP.Containers.DenseAxisArray{Any, 2}, shelter_numbers, evacuee_numbers, epsilon::Float64 = 1000)\n",
        "    O, D = axes(data)\n",
        "    #O, D = setdiff(O, [\"VACANCIES\"]), setdiff(D, [\"EVACUEES\"])\n",
        "    num_rows, num_cols = length(O), length(D)\n",
        "    derivative_matrix = zeros(Float64, num_rows, num_cols)\n",
        "\n",
        "    for (i, o) in enumerate(O), (j, d) in enumerate(D)\n",
        "        original_capacity = data[shelter_numbers, d]\n",
        "\n",
        "        if original_capacity isa Number\n",
        "            # Increase the capacity slightly and re-solve\n",
        "            data[shelter_numbers, d] = original_capacity + epsilon\n",
        "            increased_capacity_model = Model(HiGHS.Optimizer)\n",
        "            set_silent(increased_capacity_model)\n",
        "            @variable(increased_capacity_model, x[ii in O, jj in D] >= 0)\n",
        "\n",
        "            for ii in O, jj in D\n",
        "                if data[ii, jj] == \".\"\n",
        "                    fix(x[ii, jj], 0.0; force = true)\n",
        "                end\n",
        "            end\n",
        "\n",
        "            @objective(\n",
        "                increased_capacity_model,\n",
        "                Min,\n",
        "                sum(data[ii, jj] * x[ii, jj] for ii in O, jj in D if data[ii, jj] isa Number),\n",
        "            )\n",
        "\n",
        "            @constraint(increased_capacity_model, [ii in O], sum(x[ii, :]) == data[ii, evacuee_numbers])\n",
        "            @constraint(increased_capacity_model, [jj in D], sum(x[:, jj]) <= data[shelter_numbers, jj])\n",
        "\n",
        "            optimize!(increased_capacity_model)\n",
        "            increased_capacity_objective = objective_value(increased_capacity_model)\n",
        "\n",
        "            # Decrease the capacity slightly and re-solve\n",
        "            data[shelter_numbers, d] = original_capacity - epsilon\n",
        "            decreased_capacity_model = Model(HiGHS.Optimizer)\n",
        "            set_silent(decreased_capacity_model)\n",
        "            @variable(decreased_capacity_model, x[ii in O, jj in D] >= 0)\n",
        "\n",
        "            for ii in O, jj in D\n",
        "                if data[ii, jj] == \".\"\n",
        "                    fix(x[ii, jj], 0.0; force = true)\n",
        "                end\n",
        "            end\n",
        "\n",
        "            @objective(\n",
        "                decreased_capacity_model,\n",
        "                Min,\n",
        "                sum(data[ii, jj] * x[ii, jj] for ii in O, jj in D if data[ii, jj] isa Number),\n",
        "            )\n",
        "\n",
        "            @constraint(decreased_capacity_model, [ii in O], sum(x[ii, :]) == data[ii, evacuee_numbers])\n",
        "            @constraint(decreased_capacity_model, [jj in D], sum(x[:, jj]) <= data[shelter_numbers, jj])\n",
        "\n",
        "            optimize!(decreased_capacity_model)\n",
        "            decreased_capacity_objective = objective_value(decreased_capacity_model)\n",
        "\n",
        "            # Calculate the numerical derivative\n",
        "            derivative = (increased_capacity_objective - decreased_capacity_objective) / (2 * epsilon)\n",
        "            derivative_matrix[i, j] = derivative\n",
        "\n",
        "            # Reset the original capacity\n",
        "            data[shelter_numbers, d] = original_capacity\n",
        "        end\n",
        "    end\n",
        "\n",
        "    return derivative_matrix\n",
        "end\n",
        "\n",
        "# Calculate and print the numerical derivative matrix for shelter capacity changes\n",
        "epsilon = 1000.0\n",
        "capacity_derivative_matrix = calculate_numerical_capacity_derivative(full_cost_array, shelter_numbers, evacuee_numbers, epsilon)\n",
        "println(\"\\nNumerical Derivative Matrix for Shelter Capacity Changes:\")\n",
        "for row in eachrow(capacity_derivative_matrix)\n",
        "    println(row)\n",
        "end"
      ]
    },
    {
      "cell_type": "code",
      "source": [],
      "metadata": {
        "id": "wNs5Wl2jx6ll"
      },
      "execution_count": 17,
      "outputs": []
    },
    {
      "cell_type": "code",
      "source": [
        "# Calculate and print the numerical derivative matrix\n",
        "epsilon = 1.0\n",
        "derivative_matrix = calculate_numerical_derivative(full_cost_array, shelter_numbers, evacuee_numbers, epsilon)\n",
        "println(\"\\nNumerical Derivative Matrix for Pathway:\")\n",
        "for row in eachrow(derivative_matrix)\n",
        "    println(row)\n",
        "end\n",
        "\n",
        "# Derivative Calculation (Shelter Capacity)\n",
        "\n",
        "function calculate_numerical_capacity_derivative(data::JuMP.Containers.DenseAxisArray{Any, 2}, shelter_numbers, evacuee_numbers, epsilon::Float64 = 1000)\n",
        "    O, D = axes(data)\n",
        "    #O, D = setdiff(O, [\"VACANCIES\"]), setdiff(D, [\"EVACUEES\"])\n",
        "    num_rows, num_cols = length(O), length(D)\n",
        "    derivative_matrix = zeros(Float64, num_rows, num_cols)\n",
        "\n",
        "    for (i, o) in enumerate(O), (j, d) in enumerate(D)\n",
        "        original_capacity = data[shelter_numbers, d]\n",
        "\n",
        "        if original_capacity isa Number\n",
        "            # Increase the capacity slightly and re-solve\n",
        "            data[shelter_numbers, d] = original_capacity + epsilon\n",
        "            increased_capacity_model = Model(HiGHS.Optimizer)\n",
        "            set_silent(increased_capacity_model)\n",
        "            @variable(increased_capacity_model, x[ii in O, jj in D] >= 0)\n",
        "\n",
        "            for ii in O, jj in D\n",
        "                if data[ii, jj] == \".\"\n",
        "                    fix(x[ii, jj], 0.0; force = true)\n",
        "                end\n",
        "            end\n",
        "\n",
        "            @objective(\n",
        "                increased_capacity_model,\n",
        "                Min,\n",
        "                sum(data[ii, jj] * x[ii, jj] for ii in O, jj in D if data[ii, jj] isa Number),\n",
        "            )\n",
        "\n",
        "            @constraint(increased_capacity_model, [ii in O], sum(x[ii, :]) == data[ii, evacuee_numbers])\n",
        "            @constraint(increased_capacity_model, [jj in D], sum(x[:, jj]) <= data[shelter_numbers, jj])\n",
        "\n",
        "            optimize!(increased_capacity_model)\n",
        "            increased_capacity_objective = objective_value(increased_capacity_model)\n",
        "\n",
        "            # Decrease the capacity slightly and re-solve\n",
        "            data[shelter_numbers, d] = original_capacity - epsilon\n",
        "            decreased_capacity_model = Model(HiGHS.Optimizer)\n",
        "            set_silent(decreased_capacity_model)\n",
        "            @variable(decreased_capacity_model, x[ii in O, jj in D] >= 0)\n",
        "\n",
        "            for ii in O, jj in D\n",
        "                if data[ii, jj] == \".\"\n",
        "                    fix(x[ii, jj], 0.0; force = true)\n",
        "                end\n",
        "            end\n",
        "\n",
        "            @objective(\n",
        "                decreased_capacity_model,\n",
        "                Min,\n",
        "                sum(data[ii, jj] * x[ii, jj] for ii in O, jj in D if data[ii, jj] isa Number),\n",
        "            )\n",
        "\n",
        "            @constraint(decreased_capacity_model, [ii in O], sum(x[ii, :]) == data[ii, evacuee_numbers])\n",
        "            @constraint(decreased_capacity_model, [jj in D], sum(x[:, jj]) <= data[shelter_numbers, jj])\n",
        "\n",
        "            optimize!(decreased_capacity_model)\n",
        "            decreased_capacity_objective = objective_value(decreased_capacity_model)\n",
        "\n",
        "            # Calculate the numerical derivative\n",
        "            derivative = (increased_capacity_objective - decreased_capacity_objective) / (2 * epsilon)\n",
        "            derivative_matrix[i, j] = derivative\n",
        "\n",
        "            # Reset the original capacity\n",
        "            data[shelter_numbers, d] = original_capacity\n",
        "        end\n",
        "    end\n",
        "\n",
        "    return derivative_matrix\n",
        "end\n",
        "\n",
        "# Calculate and print the numerical derivative matrix for shelter capacity changes\n",
        "epsilon = 1000.0\n",
        "capacity_derivative_matrix = calculate_numerical_capacity_derivative(full_cost_array, shelter_numbers, evacuee_numbers, epsilon)\n",
        "println(\"\\nNumerical Derivative Matrix for Shelter Capacity Changes:\")\n",
        "for row in eachrow(capacity_derivative_matrix)\n",
        "    println(row)\n",
        "end"
      ],
      "metadata": {
        "id": "4Tymjuxhtw5Z",
        "colab": {
          "base_uri": "https://localhost:8080/",
          "height": 1000
        },
        "outputId": "3a533053-fe60-4fc1-f5cb-8aa88fca0030"
      },
      "execution_count": 18,
      "outputs": [
        {
          "output_type": "error",
          "ename": "LoadError",
          "evalue": "KeyError: key Any[649, 741, 2617, 2619, 1836, 2088, 1604, 228, 121, 42  …  307, 0, 606, 704, 1364, 29, 146, 369, 1636, 1319] not found",
          "traceback": [
            "KeyError: key Any[649, 741, 2617, 2619, 1836, 2088, 1604, 228, 121, 42  …  307, 0, 606, 704, 1364, 29, 146, 369, 1636, 1319] not found",
            "",
            "Stacktrace:",
            "  [1] getindex(#unused#::JuMP.Containers._AxisLookup{Tuple{Int64, Int64}}, key::Vector{Any})",
            "    @ JuMP.Containers ~/.julia/packages/JuMP/as6Ji/src/Containers/DenseAxisArray.jl:18",
            "  [2] _getindex_recurse(data::Tuple{JuMP.Containers._AxisLookup{Tuple{Int64, Int64}}}, keys::Tuple{Vector{Any}}, condition::JuMP.Containers.var\"#20#22\")",
            "    @ JuMP.Containers ~/.julia/packages/JuMP/as6Ji/src/Containers/DenseAxisArray.jl:376",
            "  [3] _getindex_recurse(data::Tuple{JuMP.Containers._AxisLookup{Tuple{Int64, Int64}}, JuMP.Containers._AxisLookup{Tuple{Int64, Int64}}}, keys::Tuple{Int64, Vector{Any}}, condition::JuMP.Containers.var\"#20#22\")",
            "    @ JuMP.Containers ~/.julia/packages/JuMP/as6Ji/src/Containers/DenseAxisArray.jl:375",
            "  [4] to_index(A::DenseAxisArray{Any, 2, Tuple{UnitRange{Int64}, UnitRange{Int64}}, Tuple{JuMP.Containers._AxisLookup{Tuple{Int64, Int64}}, JuMP.Containers._AxisLookup{Tuple{Int64, Int64}}}}, idx::Tuple{Int64, Vector{Any}})",
            "    @ JuMP.Containers ~/.julia/packages/JuMP/as6Ji/src/Containers/DenseAxisArray.jl:385",
            "  [5] getindex(::DenseAxisArray{Any, 2, Tuple{UnitRange{Int64}, UnitRange{Int64}}, Tuple{JuMP.Containers._AxisLookup{Tuple{Int64, Int64}}, JuMP.Containers._AxisLookup{Tuple{Int64, Int64}}}}, ::Int64, ::Vararg{Any}; kwargs::Base.Pairs{Symbol, Union{}, Tuple{}, NamedTuple{(), Tuple{}}})",
            "    @ JuMP.Containers ~/.julia/packages/JuMP/as6Ji/src/Containers/DenseAxisArray.jl:412",
            "  [6] getindex(::DenseAxisArray{Any, 2, Tuple{UnitRange{Int64}, UnitRange{Int64}}, Tuple{JuMP.Containers._AxisLookup{Tuple{Int64, Int64}}, JuMP.Containers._AxisLookup{Tuple{Int64, Int64}}}}, ::Int64, ::Vector{Any})",
            "    @ JuMP.Containers ~/.julia/packages/JuMP/as6Ji/src/Containers/DenseAxisArray.jl:405",
            "  [7] macro expansion",
            "    @ ~/.julia/packages/MutableArithmetics/iovKe/src/rewrite.jl:325 [inlined]",
            "  [8] macro expansion",
            "    @ ~/.julia/packages/JuMP/as6Ji/src/macros.jl:257 [inlined]",
            "  [9] macro expansion",
            "    @ ~/.julia/packages/JuMP/as6Ji/src/macros/@constraint.jl:131 [inlined]",
            " [10] (::var\"#16#22\"{DenseAxisArray{Any, 2, Tuple{UnitRange{Int64}, UnitRange{Int64}}, Tuple{JuMP.Containers._AxisLookup{Tuple{Int64, Int64}}, JuMP.Containers._AxisLookup{Tuple{Int64, Int64}}}}, Vector{Any}, Model})(ii::Int64)",
            "    @ Main ~/.julia/packages/JuMP/as6Ji/src/Containers/macro.jl:539",
            " [11] (::JuMP.Containers.var\"#87#89\"{var\"#16#22\"{DenseAxisArray{Any, 2, Tuple{UnitRange{Int64}, UnitRange{Int64}}, Tuple{JuMP.Containers._AxisLookup{Tuple{Int64, Int64}}, JuMP.Containers._AxisLookup{Tuple{Int64, Int64}}}}, Vector{Any}, Model}})(I::Tuple{Int64})",
            "    @ JuMP.Containers ~/.julia/packages/JuMP/as6Ji/src/Containers/container.jl:124",
            " [12] iterate",
            "    @ ./generator.jl:47 [inlined]",
            " [13] collect(itr::Base.Generator{JuMP.Containers.VectorizedProductIterator{Tuple{UnitRange{Int64}}}, JuMP.Containers.var\"#87#89\"{var\"#16#22\"{DenseAxisArray{Any, 2, Tuple{UnitRange{Int64}, UnitRange{Int64}}, Tuple{JuMP.Containers._AxisLookup{Tuple{Int64, Int64}}, JuMP.Containers._AxisLookup{Tuple{Int64, Int64}}}}, Vector{Any}, Model}}})",
            "    @ Base ./array.jl:787",
            " [14] map(f::Function, A::JuMP.Containers.VectorizedProductIterator{Tuple{UnitRange{Int64}}})",
            "    @ Base ./abstractarray.jl:2961",
            " [15] container(f::Function, indices::JuMP.Containers.VectorizedProductIterator{Tuple{UnitRange{Int64}}}, ::Type{DenseAxisArray}, names::Vector{Any})",
            "    @ JuMP.Containers ~/.julia/packages/JuMP/as6Ji/src/Containers/container.jl:123",
            " [16] container",
            "    @ ~/.julia/packages/JuMP/as6Ji/src/Containers/container.jl:75 [inlined]",
            " [17] macro expansion",
            "    @ ~/.julia/packages/JuMP/as6Ji/src/macros.jl:393 [inlined]",
            " [18] calculate_numerical_derivative(data::DenseAxisArray{Any, 2, Tuple{UnitRange{Int64}, UnitRange{Int64}}, Tuple{JuMP.Containers._AxisLookup{Tuple{Int64, Int64}}, JuMP.Containers._AxisLookup{Tuple{Int64, Int64}}}}, shelter_numbers::Vector{Any}, evacuee_numbers::Vector{Any}, epsilon::Float64)",
            "    @ Main ./In[15]:31",
            " [19] top-level scope",
            "    @ In[18]:3"
          ]
        }
      ]
    }
  ],
  "metadata": {
    "colab": {
      "provenance": [],
      "collapsed_sections": [
        "tQ1r1bbb0yBv",
        "-OS3Ac017T1i"
      ]
    },
    "kernelspec": {
      "display_name": "Julia",
      "language": "julia",
      "name": "julia"
    },
    "language_info": {
      "file_extension": ".jl",
      "mimetype": "application/julia",
      "name": "julia"
    }
  },
  "nbformat": 4,
  "nbformat_minor": 0
}